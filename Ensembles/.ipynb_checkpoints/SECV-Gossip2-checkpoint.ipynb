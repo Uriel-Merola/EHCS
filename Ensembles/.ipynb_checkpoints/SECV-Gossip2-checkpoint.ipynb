{
 "cells": [
  {
   "cell_type": "code",
   "execution_count": 126,
   "id": "c1305c44",
   "metadata": {},
   "outputs": [],
   "source": [
    "# -*- coding: utf-8 -*-\n",
    "import pandas as pd\n",
    "import numpy as np\n",
    "from sklearn.model_selection import train_test_split\n",
    "from sklearn.metrics import classification_report\n",
    "from sklearn.metrics import accuracy_score\n",
    "from sklearn.neighbors import KNeighborsClassifier\n",
    "from sklearn.tree import DecisionTreeClassifier\n",
    "from sklearn.naive_bayes import GaussianNB\n",
    "from sklearn.linear_model import LogisticRegression\n",
    "from sklearn import svm\n",
    "from sklearn.neural_network import MLPClassifier\n",
    "from sklearn.ensemble import BaggingClassifier\n",
    "from sklearn.model_selection import cross_val_score\n",
    "from sklearn.model_selection import GridSearchCV\n",
    "from sklearn.metrics import roc_auc_score\n",
    "from sklearn.ensemble import RandomForestClassifier"
   ]
  },
  {
   "cell_type": "markdown",
   "id": "2b1d600c",
   "metadata": {},
   "source": [
    "# Leitura de Datasets e Pré-processamento"
   ]
  },
  {
   "cell_type": "code",
   "execution_count": 127,
   "id": "254d53bb",
   "metadata": {},
   "outputs": [],
   "source": [
    "ResulttesteGossip2Maq123 = pd.read_csv(r\"D:\\HCS\\Codigos em R\\Gossip2\\Ensemble\\No Metadata\\ResulttesteGossip2Maq123.csv\",sep=';')"
   ]
  },
  {
   "cell_type": "code",
   "execution_count": 128,
   "id": "d517da56",
   "metadata": {},
   "outputs": [
    {
     "data": {
      "text/html": [
       "<div>\n",
       "<style scoped>\n",
       "    .dataframe tbody tr th:only-of-type {\n",
       "        vertical-align: middle;\n",
       "    }\n",
       "\n",
       "    .dataframe tbody tr th {\n",
       "        vertical-align: top;\n",
       "    }\n",
       "\n",
       "    .dataframe thead th {\n",
       "        text-align: right;\n",
       "    }\n",
       "</style>\n",
       "<table border=\"1\" class=\"dataframe\">\n",
       "  <thead>\n",
       "    <tr style=\"text-align: right;\">\n",
       "      <th></th>\n",
       "      <th>id</th>\n",
       "      <th>idOriginal</th>\n",
       "      <th>rotulo</th>\n",
       "      <th>class_mac1</th>\n",
       "      <th>class_mac2</th>\n",
       "      <th>class_mac3</th>\n",
       "    </tr>\n",
       "  </thead>\n",
       "  <tbody>\n",
       "    <tr>\n",
       "      <th>0</th>\n",
       "      <td>1</td>\n",
       "      <td>955433</td>\n",
       "      <td>Real</td>\n",
       "      <td>fake</td>\n",
       "      <td>fake</td>\n",
       "      <td>fake</td>\n",
       "    </tr>\n",
       "    <tr>\n",
       "      <th>1</th>\n",
       "      <td>3</td>\n",
       "      <td>855748</td>\n",
       "      <td>Real</td>\n",
       "      <td>real</td>\n",
       "      <td>fake</td>\n",
       "      <td>fake</td>\n",
       "    </tr>\n",
       "    <tr>\n",
       "      <th>2</th>\n",
       "      <td>4</td>\n",
       "      <td>945955</td>\n",
       "      <td>Real</td>\n",
       "      <td>fake</td>\n",
       "      <td>fake</td>\n",
       "      <td>fake</td>\n",
       "    </tr>\n",
       "    <tr>\n",
       "      <th>3</th>\n",
       "      <td>5</td>\n",
       "      <td>853862</td>\n",
       "      <td>Real</td>\n",
       "      <td>real</td>\n",
       "      <td>fake</td>\n",
       "      <td>fake</td>\n",
       "    </tr>\n",
       "    <tr>\n",
       "      <th>4</th>\n",
       "      <td>6</td>\n",
       "      <td>841827</td>\n",
       "      <td>Real</td>\n",
       "      <td>fake</td>\n",
       "      <td>fake</td>\n",
       "      <td>fake</td>\n",
       "    </tr>\n",
       "    <tr>\n",
       "      <th>...</th>\n",
       "      <td>...</td>\n",
       "      <td>...</td>\n",
       "      <td>...</td>\n",
       "      <td>...</td>\n",
       "      <td>...</td>\n",
       "      <td>...</td>\n",
       "    </tr>\n",
       "    <tr>\n",
       "      <th>1182</th>\n",
       "      <td>2384</td>\n",
       "      <td>3617356354</td>\n",
       "      <td>Fake</td>\n",
       "      <td>fake</td>\n",
       "      <td>fake</td>\n",
       "      <td>real</td>\n",
       "    </tr>\n",
       "    <tr>\n",
       "      <th>1183</th>\n",
       "      <td>2385</td>\n",
       "      <td>1612763066</td>\n",
       "      <td>Fake</td>\n",
       "      <td>fake</td>\n",
       "      <td>fake</td>\n",
       "      <td>real</td>\n",
       "    </tr>\n",
       "    <tr>\n",
       "      <th>1184</th>\n",
       "      <td>2391</td>\n",
       "      <td>2859753224</td>\n",
       "      <td>Fake</td>\n",
       "      <td>fake</td>\n",
       "      <td>fake</td>\n",
       "      <td>real</td>\n",
       "    </tr>\n",
       "    <tr>\n",
       "      <th>1185</th>\n",
       "      <td>2393</td>\n",
       "      <td>5327470451</td>\n",
       "      <td>Fake</td>\n",
       "      <td>fake</td>\n",
       "      <td>fake</td>\n",
       "      <td>real</td>\n",
       "    </tr>\n",
       "    <tr>\n",
       "      <th>1186</th>\n",
       "      <td>2398</td>\n",
       "      <td>5992379516</td>\n",
       "      <td>Fake</td>\n",
       "      <td>fake</td>\n",
       "      <td>fake</td>\n",
       "      <td>real</td>\n",
       "    </tr>\n",
       "  </tbody>\n",
       "</table>\n",
       "<p>1187 rows × 6 columns</p>\n",
       "</div>"
      ],
      "text/plain": [
       "        id  idOriginal rotulo class_mac1 class_mac2 class_mac3\n",
       "0        1      955433   Real       fake       fake       fake\n",
       "1        3      855748   Real       real       fake       fake\n",
       "2        4      945955   Real       fake       fake       fake\n",
       "3        5      853862   Real       real       fake       fake\n",
       "4        6      841827   Real       fake       fake       fake\n",
       "...    ...         ...    ...        ...        ...        ...\n",
       "1182  2384  3617356354   Fake       fake       fake       real\n",
       "1183  2385  1612763066   Fake       fake       fake       real\n",
       "1184  2391  2859753224   Fake       fake       fake       real\n",
       "1185  2393  5327470451   Fake       fake       fake       real\n",
       "1186  2398  5992379516   Fake       fake       fake       real\n",
       "\n",
       "[1187 rows x 6 columns]"
      ]
     },
     "execution_count": 128,
     "metadata": {},
     "output_type": "execute_result"
    }
   ],
   "source": [
    "ResulttesteGossip2Maq123"
   ]
  },
  {
   "cell_type": "code",
   "execution_count": 129,
   "id": "a4f348bc",
   "metadata": {},
   "outputs": [],
   "source": [
    "ResulttesteGossip2Maq123['rotulo'].replace(['Fake', 'Real'],[0, 1], inplace=True)\n",
    "ResulttesteGossip2Maq123['class_mac1'].replace(['fake', 'real'],[0, 1], inplace=True)\n",
    "ResulttesteGossip2Maq123['class_mac2'].replace(['fake', 'real'],[0, 1], inplace=True)\n",
    "ResulttesteGossip2Maq123['class_mac3'].replace(['fake', 'real'],[0, 1], inplace=True)\n"
   ]
  },
  {
   "cell_type": "markdown",
   "id": "97bd1013",
   "metadata": {},
   "source": [
    "# Dataset Split"
   ]
  },
  {
   "cell_type": "code",
   "execution_count": 130,
   "id": "889e81e8",
   "metadata": {},
   "outputs": [],
   "source": [
    "x = ResulttesteGossip2Maq123[['class_mac1','class_mac2','class_mac3']]\n",
    "y = ResulttesteGossip2Maq123['rotulo']"
   ]
  },
  {
   "cell_type": "code",
   "execution_count": 131,
   "id": "a2fd7f98",
   "metadata": {
    "scrolled": true
   },
   "outputs": [
    {
     "data": {
      "text/html": [
       "<div>\n",
       "<style scoped>\n",
       "    .dataframe tbody tr th:only-of-type {\n",
       "        vertical-align: middle;\n",
       "    }\n",
       "\n",
       "    .dataframe tbody tr th {\n",
       "        vertical-align: top;\n",
       "    }\n",
       "\n",
       "    .dataframe thead th {\n",
       "        text-align: right;\n",
       "    }\n",
       "</style>\n",
       "<table border=\"1\" class=\"dataframe\">\n",
       "  <thead>\n",
       "    <tr style=\"text-align: right;\">\n",
       "      <th></th>\n",
       "      <th>class_mac1</th>\n",
       "      <th>class_mac2</th>\n",
       "      <th>class_mac3</th>\n",
       "    </tr>\n",
       "  </thead>\n",
       "  <tbody>\n",
       "    <tr>\n",
       "      <th>724</th>\n",
       "      <td>0</td>\n",
       "      <td>0</td>\n",
       "      <td>0</td>\n",
       "    </tr>\n",
       "    <tr>\n",
       "      <th>923</th>\n",
       "      <td>1</td>\n",
       "      <td>1</td>\n",
       "      <td>1</td>\n",
       "    </tr>\n",
       "    <tr>\n",
       "      <th>63</th>\n",
       "      <td>0</td>\n",
       "      <td>0</td>\n",
       "      <td>1</td>\n",
       "    </tr>\n",
       "    <tr>\n",
       "      <th>738</th>\n",
       "      <td>0</td>\n",
       "      <td>0</td>\n",
       "      <td>0</td>\n",
       "    </tr>\n",
       "    <tr>\n",
       "      <th>260</th>\n",
       "      <td>1</td>\n",
       "      <td>1</td>\n",
       "      <td>1</td>\n",
       "    </tr>\n",
       "    <tr>\n",
       "      <th>130</th>\n",
       "      <td>1</td>\n",
       "      <td>1</td>\n",
       "      <td>1</td>\n",
       "    </tr>\n",
       "    <tr>\n",
       "      <th>929</th>\n",
       "      <td>0</td>\n",
       "      <td>0</td>\n",
       "      <td>1</td>\n",
       "    </tr>\n",
       "    <tr>\n",
       "      <th>922</th>\n",
       "      <td>0</td>\n",
       "      <td>1</td>\n",
       "      <td>1</td>\n",
       "    </tr>\n",
       "    <tr>\n",
       "      <th>887</th>\n",
       "      <td>1</td>\n",
       "      <td>1</td>\n",
       "      <td>1</td>\n",
       "    </tr>\n",
       "    <tr>\n",
       "      <th>110</th>\n",
       "      <td>1</td>\n",
       "      <td>1</td>\n",
       "      <td>1</td>\n",
       "    </tr>\n",
       "  </tbody>\n",
       "</table>\n",
       "</div>"
      ],
      "text/plain": [
       "     class_mac1  class_mac2  class_mac3\n",
       "724           0           0           0\n",
       "923           1           1           1\n",
       "63            0           0           1\n",
       "738           0           0           0\n",
       "260           1           1           1\n",
       "130           1           1           1\n",
       "929           0           0           1\n",
       "922           0           1           1\n",
       "887           1           1           1\n",
       "110           1           1           1"
      ]
     },
     "execution_count": 131,
     "metadata": {},
     "output_type": "execute_result"
    }
   ],
   "source": [
    "x_train, x_test, y_train, y_test = train_test_split(x,y, test_size = .4, random_state=500, shuffle=True)\n",
    "x_train.head(10)"
   ]
  },
  {
   "cell_type": "markdown",
   "id": "d706e8b3",
   "metadata": {},
   "source": [
    "# KNN Ensemble"
   ]
  },
  {
   "cell_type": "code",
   "execution_count": 132,
   "id": "66768e53",
   "metadata": {},
   "outputs": [
    {
     "name": "stdout",
     "output_type": "stream",
     "text": [
      "Acurácia dos Folds: \n",
      " [0.58823529 0.49579832 0.49579832 0.48739496 0.48739496 0.48739496\n",
      " 0.48739496 0.49152542 0.49152542 0.49152542] \n",
      "\n",
      "Acurácia Média:  0.5003988035892324 \n",
      "\n",
      "Desvio Padrão:  0.029445183972686594 \n",
      "\n",
      "Número de Folds:  10\n"
     ]
    }
   ],
   "source": [
    "knn = KNeighborsClassifier()\n",
    "scores = cross_val_score(knn, x, y, cv=10)\n",
    "print(\"Acurácia dos Folds: \\n\", scores,\"\\n\")\n",
    "print(\"Acurácia Média: \", scores.mean(),\"\\n\")\n",
    "print(\"Desvio Padrão: \", scores.std(),\"\\n\")\n",
    "print(\"Número de Folds: \", len(scores))"
   ]
  },
  {
   "cell_type": "markdown",
   "id": "6a7c8985",
   "metadata": {},
   "source": [
    "**BAGGING**"
   ]
  },
  {
   "cell_type": "code",
   "execution_count": 16,
   "id": "2516ea6c",
   "metadata": {},
   "outputs": [
    {
     "name": "stdout",
     "output_type": "stream",
     "text": [
      "Acurácia dos Folds: \n",
      " [0.53781513 0.82352941 0.97478992 0.80672269 0.63865546 0.55462185\n",
      " 0.66386555 1.         1.         1.        ] \n",
      "\n",
      "Acurácia Média:  0.8 \n",
      "\n",
      "Desvio Padrão:  0.180184998577319 \n",
      "\n",
      "Número de Folds:  10\n"
     ]
    }
   ],
   "source": [
    "bag = BaggingClassifier(KNeighborsClassifier())\n",
    "scores = cross_val_score(bag, x, y, cv=10)\n",
    "print(\"Acurácia dos Folds: \\n\", scores,\"\\n\")\n",
    "print(\"Acurácia Média: \", scores.mean(),\"\\n\")\n",
    "print(\"Desvio Padrão: \", scores.std(),\"\\n\")\n",
    "print(\"Número de Folds: \", len(scores))"
   ]
  },
  {
   "cell_type": "markdown",
   "id": "2d4b7a3d",
   "metadata": {},
   "source": [
    "# Decision Tree Ensemble"
   ]
  },
  {
   "cell_type": "code",
   "execution_count": 18,
   "id": "3bc5ddb5",
   "metadata": {},
   "outputs": [
    {
     "name": "stdout",
     "output_type": "stream",
     "text": [
      "Acurácia dos Folds: \n",
      " [0.54621849 0.73109244 0.97478992 0.80672269 0.63865546 0.55462185\n",
      " 0.66386555 1.         1.         1.        ] \n",
      "\n",
      "Acurácia Média:  0.7915966386554621 \n",
      "\n",
      "Desvio Padrão:  0.17994969834385444 \n",
      "\n",
      "Número de Folds:  10\n"
     ]
    }
   ],
   "source": [
    "DT = DecisionTreeClassifier()\n",
    "scores = cross_val_score(DT, x, y, cv=10)\n",
    "print(\"Acurácia dos Folds: \\n\", scores,\"\\n\")\n",
    "print(\"Acurácia Média: \", scores.mean(),\"\\n\")\n",
    "print(\"Desvio Padrão: \", scores.std(),\"\\n\")\n",
    "print(\"Número de Folds: \", len(scores))"
   ]
  },
  {
   "cell_type": "markdown",
   "id": "5b0f3b00",
   "metadata": {},
   "source": [
    "**BAGGING**"
   ]
  },
  {
   "cell_type": "code",
   "execution_count": 29,
   "id": "6b598781",
   "metadata": {},
   "outputs": [
    {
     "name": "stdout",
     "output_type": "stream",
     "text": [
      "Acurácia dos Folds: \n",
      " [0.54621849 0.82352941 0.97478992 0.80672269 0.63865546 0.55462185\n",
      " 0.66386555 1.         1.         1.        ] \n",
      "\n",
      "Acurácia Média:  0.8008403361344538 \n",
      "\n",
      "Desvio Padrão:  0.1789758149826512 \n",
      "\n",
      "Número de Folds:  10\n"
     ]
    }
   ],
   "source": [
    "bag = BaggingClassifier(DecisionTreeClassifier())\n",
    "scores = cross_val_score(bag, x, y, cv=10)\n",
    "print(\"Acurácia dos Folds: \\n\", scores,\"\\n\")\n",
    "print(\"Acurácia Média: \", scores.mean(),\"\\n\")\n",
    "print(\"Desvio Padrão: \", scores.std(),\"\\n\")\n",
    "print(\"Número de Folds: \", len(scores))"
   ]
  },
  {
   "cell_type": "markdown",
   "id": "f8bb30a5",
   "metadata": {},
   "source": [
    "# Naive Bayes"
   ]
  },
  {
   "cell_type": "code",
   "execution_count": 33,
   "id": "2a10a959",
   "metadata": {},
   "outputs": [
    {
     "name": "stdout",
     "output_type": "stream",
     "text": [
      "Acurácia dos Folds: \n",
      " [0.5210084  0.73109244 0.94117647 0.88235294 0.63865546 0.55462185\n",
      " 0.66386555 1.         1.         1.        ] \n",
      "\n",
      "Acurácia Média:  0.7932773109243697 \n",
      "\n",
      "Desvio Padrão:  0.182652814658395 \n",
      "\n",
      "Número de Folds:  10\n"
     ]
    }
   ],
   "source": [
    "gnb = GaussianNB()\n",
    "scores = cross_val_score(gnb, x, y, cv=10)\n",
    "print(\"Acurácia dos Folds: \\n\", scores,\"\\n\")\n",
    "print(\"Acurácia Média: \", scores.mean(),\"\\n\")\n",
    "print(\"Desvio Padrão: \", scores.std(),\"\\n\")\n",
    "print(\"Número de Folds: \", len(scores))"
   ]
  },
  {
   "cell_type": "markdown",
   "id": "0e5772b4",
   "metadata": {},
   "source": [
    "**BAGGING**"
   ]
  },
  {
   "cell_type": "code",
   "execution_count": 67,
   "id": "2e700e3c",
   "metadata": {},
   "outputs": [
    {
     "name": "stdout",
     "output_type": "stream",
     "text": [
      "Acurácia dos Folds: \n",
      " [0.5210084  0.73109244 0.97478992 0.88235294 0.63865546 0.55462185\n",
      " 0.66386555 1.         1.         1.        ] \n",
      "\n",
      "Acurácia Média:  0.7966386554621849 \n",
      "\n",
      "Desvio Padrão:  0.18562871141479775 \n",
      "\n",
      "Número de Folds:  10\n"
     ]
    }
   ],
   "source": [
    "bag = BaggingClassifier(GaussianNB())\n",
    "scores = cross_val_score(bag, x, y, cv=10)\n",
    "print(\"Acurácia dos Folds: \\n\", scores,\"\\n\")\n",
    "print(\"Acurácia Média: \", scores.mean(),\"\\n\")\n",
    "print(\"Desvio Padrão: \", scores.std(),\"\\n\")\n",
    "print(\"Número de Folds: \", len(scores))"
   ]
  },
  {
   "cell_type": "markdown",
   "id": "c5b47519",
   "metadata": {},
   "source": [
    "# SVM"
   ]
  },
  {
   "cell_type": "markdown",
   "id": "4cf1ee1c",
   "metadata": {},
   "source": [
    "**Default Classifier**"
   ]
  },
  {
   "cell_type": "code",
   "execution_count": 141,
   "id": "9708bffe",
   "metadata": {},
   "outputs": [
    {
     "name": "stdout",
     "output_type": "stream",
     "text": [
      "Acurácia dos Folds: \n",
      " [0.54621849 0.73109244 0.97478992 0.80672269 0.63865546 0.55462185\n",
      " 0.66386555 1.         1.         1.        ] \n",
      "\n",
      "Acurácia Média:  0.7915966386554621 \n",
      "\n",
      "Desvio Padrão:  0.17994969834385444 \n",
      "\n",
      "Número de Folds:  10\n"
     ]
    }
   ],
   "source": [
    "clf = svm.SVC()\n",
    "scores = cross_val_score(clf, x, y, cv=10)\n",
    "print(\"Acurácia dos Folds: \\n\", scores,\"\\n\")\n",
    "print(\"Acurácia Média: \", scores.mean(),\"\\n\")\n",
    "print(\"Desvio Padrão: \", scores.std(),\"\\n\")\n",
    "print(\"Número de Folds: \", len(scores))"
   ]
  },
  {
   "cell_type": "markdown",
   "id": "abff3640",
   "metadata": {},
   "source": [
    "**BAGGING**"
   ]
  },
  {
   "cell_type": "code",
   "execution_count": 85,
   "id": "1237c000",
   "metadata": {},
   "outputs": [
    {
     "name": "stdout",
     "output_type": "stream",
     "text": [
      "Acurácia dos Folds: \n",
      " [0.54621849 0.82352941 0.97478992 0.80672269 0.63865546 0.55462185\n",
      " 0.66386555 1.         1.         1.        ] \n",
      "\n",
      "Acurácia Média:  0.8008403361344538 \n",
      "\n",
      "Desvio Padrão:  0.1789758149826512 \n",
      "\n",
      "Número de Folds:  10\n"
     ]
    }
   ],
   "source": [
    "bag = BaggingClassifier(svm.SVC())\n",
    "scores = cross_val_score(bag, x, y, cv=10)\n",
    "print(\"Acurácia dos Folds: \\n\", scores,\"\\n\")\n",
    "print(\"Acurácia Média: \", scores.mean(),\"\\n\")\n",
    "print(\"Desvio Padrão: \", scores.std(),\"\\n\")\n",
    "print(\"Número de Folds: \", len(scores))"
   ]
  },
  {
   "cell_type": "markdown",
   "id": "5e57bcfe",
   "metadata": {},
   "source": [
    "# MLP"
   ]
  },
  {
   "cell_type": "code",
   "execution_count": 148,
   "id": "97005db0",
   "metadata": {},
   "outputs": [
    {
     "name": "stdout",
     "output_type": "stream",
     "text": [
      "Acurácia dos Folds: \n",
      " [0.54621849 0.73109244 0.97478992 0.80672269 0.63865546 0.55462185\n",
      " 0.66386555 1.         1.         1.        ] \n",
      "\n",
      "Acurácia Média:  0.7915966386554621 \n",
      "\n",
      "Desvio Padrão:  0.17994969834385444 \n",
      "\n",
      "Número de Folds:  10\n"
     ]
    }
   ],
   "source": [
    "mlp = MLPClassifier()\n",
    "scores = cross_val_score(clf, x, y, cv=10)\n",
    "print(\"Acurácia dos Folds: \\n\", scores,\"\\n\")\n",
    "print(\"Acurácia Média: \", scores.mean(),\"\\n\")\n",
    "print(\"Desvio Padrão: \", scores.std(),\"\\n\")\n",
    "print(\"Número de Folds: \", len(scores))"
   ]
  },
  {
   "cell_type": "markdown",
   "id": "824b59bf",
   "metadata": {},
   "source": [
    "**BAGGING**"
   ]
  },
  {
   "cell_type": "code",
   "execution_count": 149,
   "id": "2bea4f4b",
   "metadata": {},
   "outputs": [
    {
     "name": "stdout",
     "output_type": "stream",
     "text": [
      "Acurácia dos Folds: \n",
      " [0.53781513 0.73109244 0.97478992 0.80672269 0.66386555 0.55462185\n",
      " 0.66386555 1.         1.         1.        ] \n",
      "\n",
      "Acurácia Média:  0.7932773109243698 \n",
      "\n",
      "Desvio Padrão:  0.17913948204868266 \n",
      "\n",
      "Número de Folds:  10\n"
     ]
    }
   ],
   "source": [
    "bag = BaggingClassifier(MLPClassifier())\n",
    "scores = cross_val_score(bag, x, y, cv=10)\n",
    "print(\"Acurácia dos Folds: \\n\", scores,\"\\n\")\n",
    "print(\"Acurácia Média: \", scores.mean(),\"\\n\")\n",
    "print(\"Desvio Padrão: \", scores.std(),\"\\n\")\n",
    "print(\"Número de Folds: \", len(scores))"
   ]
  },
  {
   "cell_type": "markdown",
   "id": "79b39d63",
   "metadata": {},
   "source": [
    "# Logistic Regression"
   ]
  },
  {
   "cell_type": "code",
   "execution_count": 94,
   "id": "98e7bbc4",
   "metadata": {},
   "outputs": [
    {
     "name": "stdout",
     "output_type": "stream",
     "text": [
      "Acurácia dos Folds: \n",
      " [0.53781513 0.73109244 0.94117647 0.82352941 0.66386555 0.55462185\n",
      " 0.66386555 1.         1.         0.99152542] \n",
      "\n",
      "Acurácia Média:  0.7907491810283436 \n",
      "\n",
      "Desvio Padrão:  0.17523567473052304 \n",
      "\n",
      "Número de Folds:  10\n"
     ]
    }
   ],
   "source": [
    "LogReg = LogisticRegression()\n",
    "scores = cross_val_score(LogReg, x, y, cv=10)\n",
    "print(\"Acurácia dos Folds: \\n\", scores,\"\\n\")\n",
    "print(\"Acurácia Média: \", scores.mean(),\"\\n\")\n",
    "print(\"Desvio Padrão: \", scores.std(),\"\\n\")\n",
    "print(\"Número de Folds: \", len(scores))"
   ]
  },
  {
   "cell_type": "markdown",
   "id": "7036df26",
   "metadata": {},
   "source": [
    "**BAGGING**"
   ]
  },
  {
   "cell_type": "code",
   "execution_count": 109,
   "id": "514f1e7f",
   "metadata": {},
   "outputs": [
    {
     "name": "stdout",
     "output_type": "stream",
     "text": [
      "Acurácia dos Folds: \n",
      " [0.53781513 0.73109244 0.94117647 0.82352941 0.66386555 0.55462185\n",
      " 0.66386555 1.         1.         1.        ] \n",
      "\n",
      "Acurácia Média:  0.7915966386554623 \n",
      "\n",
      "Desvio Padrão:  0.17622231434915106 \n",
      "\n",
      "Número de Folds:  10\n"
     ]
    }
   ],
   "source": [
    "bag = BaggingClassifier(LogisticRegression())\n",
    "scores = cross_val_score(bag, x, y, cv=10)\n",
    "print(\"Acurácia dos Folds: \\n\", scores,\"\\n\")\n",
    "print(\"Acurácia Média: \", scores.mean(),\"\\n\")\n",
    "print(\"Desvio Padrão: \", scores.std(),\"\\n\")\n",
    "print(\"Número de Folds: \", len(scores))"
   ]
  },
  {
   "cell_type": "markdown",
   "id": "a8f60b94",
   "metadata": {},
   "source": [
    "# Random Forest"
   ]
  },
  {
   "cell_type": "code",
   "execution_count": 151,
   "id": "8b8e898c",
   "metadata": {},
   "outputs": [
    {
     "name": "stdout",
     "output_type": "stream",
     "text": [
      "Acurácia dos Folds: \n",
      " [0.53781513 0.73109244 0.97478992 0.80672269 0.63865546 0.55462185\n",
      " 0.66386555 1.         1.         1.        ] \n",
      "\n",
      "Average CV Score:  0.7907563025210084 \n",
      "\n",
      "Desvio Padrão:  0.1811094963596149 \n",
      "\n",
      "Number of CV Scores used in Average:  10\n"
     ]
    }
   ],
   "source": [
    "rf = RandomForestClassifier()\n",
    "scores = cross_val_score(rf, x, y, cv=10)\n",
    "print(\"Acurácia dos Folds: \\n\", scores,\"\\n\")\n",
    "print(\"Average CV Score: \", scores.mean(),\"\\n\")\n",
    "print(\"Desvio Padrão: \", scores.std(),\"\\n\")\n",
    "print(\"Number of CV Scores used in Average: \", len(scores))"
   ]
  },
  {
   "cell_type": "markdown",
   "id": "1c562b0d",
   "metadata": {},
   "source": [
    "**BAGGING**"
   ]
  },
  {
   "cell_type": "code",
   "execution_count": 152,
   "id": "9fb308ba",
   "metadata": {},
   "outputs": [
    {
     "name": "stdout",
     "output_type": "stream",
     "text": [
      "Acurácia dos Folds: \n",
      " [0.53781513 0.73109244 0.97478992 0.80672269 0.63865546 0.55462185\n",
      " 0.66386555 1.         1.         1.        ] \n",
      "\n",
      "Acurácia Média:  0.7907563025210084 \n",
      "\n",
      "Desvio Padrão:  0.1811094963596149 \n",
      "\n",
      "Número de Folds:  10\n"
     ]
    }
   ],
   "source": [
    "bag = BaggingClassifier(RandomForestClassifier())\n",
    "scores = cross_val_score(bag, x, y, cv=10)\n",
    "print(\"Acurácia dos Folds: \\n\", scores,\"\\n\")\n",
    "print(\"Acurácia Média: \", scores.mean(),\"\\n\")\n",
    "print(\"Desvio Padrão: \", scores.std(),\"\\n\")\n",
    "print(\"Número de Folds: \", len(scores))"
   ]
  },
  {
   "cell_type": "markdown",
   "id": "f6f469e7",
   "metadata": {},
   "source": [
    "# Vote Classifier Ensemble"
   ]
  },
  {
   "cell_type": "code",
   "execution_count": 167,
   "id": "0890f53d",
   "metadata": {},
   "outputs": [
    {
     "name": "stdout",
     "output_type": "stream",
     "text": [
      "Accuracy: 0.7958 (+/- 0.1805) [KNN]\n",
      "Accuracy: 0.7874 (+/- 0.1779) [DT]\n",
      "Accuracy: 0.7916 (+/- 0.1799) [SVM]\n",
      "Accuracy: 0.8008 (+/- 0.1790) [Ensemble]\n"
     ]
    }
   ],
   "source": [
    "from sklearn.neighbors import KNeighborsClassifier\n",
    "from sklearn.ensemble import VotingClassifier\n",
    "from sklearn.model_selection import cross_val_score\n",
    "from sklearn import svm\n",
    "from sklearn.tree import DecisionTreeClassifier\n",
    "from sklearn.naive_bayes import GaussianNB\n",
    "from sklearn.ensemble import RandomForestClassifier\n",
    "\n",
    "clf1 = BaggingClassifier(KNeighborsClassifier())\n",
    "clf2 = BaggingClassifier(svm.SVC())\n",
    "clf3 = BaggingClassifier(DecisionTreeClassifier())\n",
    "eclf = VotingClassifier(estimators=[('KNN', clf1), ('DT', clf2), ('SVM', clf3)],voting='hard')\n",
    "\n",
    "for clf, label in zip([clf1, clf2, clf3, eclf], ['KNN', 'DT', 'SVM', 'Ensemble']):\n",
    "  scores = cross_val_score(clf, x, y, scoring='accuracy', cv=10)\n",
    "  print(\"Accuracy: %0.4f (+/- %0.4f) [%s]\" % (scores.mean(), scores.std(), label))\n"
   ]
  },
  {
   "cell_type": "code",
   "execution_count": null,
   "id": "2661fb72",
   "metadata": {},
   "outputs": [],
   "source": []
  }
 ],
 "metadata": {
  "kernelspec": {
   "display_name": "Python 3 (ipykernel)",
   "language": "python",
   "name": "python3"
  },
  "language_info": {
   "codemirror_mode": {
    "name": "ipython",
    "version": 3
   },
   "file_extension": ".py",
   "mimetype": "text/x-python",
   "name": "python",
   "nbconvert_exporter": "python",
   "pygments_lexer": "ipython3",
   "version": "3.11.2"
  }
 },
 "nbformat": 4,
 "nbformat_minor": 5
}
