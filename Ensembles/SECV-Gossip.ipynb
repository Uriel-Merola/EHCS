{
 "cells": [
  {
   "cell_type": "code",
   "execution_count": 194,
   "id": "c1305c44",
   "metadata": {},
   "outputs": [],
   "source": [
    "# -*- coding: utf-8 -*-\n",
    "import pandas as pd\n",
    "import numpy as np\n",
    "from sklearn.model_selection import train_test_split\n",
    "from sklearn.metrics import classification_report\n",
    "from sklearn.metrics import accuracy_score\n",
    "from sklearn.neighbors import KNeighborsClassifier\n",
    "from sklearn.tree import DecisionTreeClassifier\n",
    "from sklearn.naive_bayes import GaussianNB\n",
    "from sklearn.linear_model import LogisticRegression\n",
    "from sklearn import svm\n",
    "from sklearn.neural_network import MLPClassifier\n",
    "from sklearn.ensemble import BaggingClassifier\n",
    "from sklearn.model_selection import cross_val_score\n",
    "from sklearn.model_selection import GridSearchCV\n",
    "from sklearn.metrics import roc_auc_score\n",
    "from sklearn.ensemble import RandomForestClassifier"
   ]
  },
  {
   "cell_type": "markdown",
   "id": "d2176edb",
   "metadata": {},
   "source": [
    "# Leitura de Datasets e Pré-processamento"
   ]
  },
  {
   "cell_type": "code",
   "execution_count": 195,
   "id": "254d53bb",
   "metadata": {},
   "outputs": [],
   "source": [
    "ResulttesteGossipMaq1234 = pd.read_csv(r\"D:\\HCS\\Codigos em R\\Gossip\\Ensemble\\No Metadata\\GossipMaq123.csv\",sep=';')"
   ]
  },
  {
   "cell_type": "code",
   "execution_count": 196,
   "id": "d517da56",
   "metadata": {
    "scrolled": true
   },
   "outputs": [
    {
     "data": {
      "text/html": [
       "<div>\n",
       "<style scoped>\n",
       "    .dataframe tbody tr th:only-of-type {\n",
       "        vertical-align: middle;\n",
       "    }\n",
       "\n",
       "    .dataframe tbody tr th {\n",
       "        vertical-align: top;\n",
       "    }\n",
       "\n",
       "    .dataframe thead th {\n",
       "        text-align: right;\n",
       "    }\n",
       "</style>\n",
       "<table border=\"1\" class=\"dataframe\">\n",
       "  <thead>\n",
       "    <tr style=\"text-align: right;\">\n",
       "      <th></th>\n",
       "      <th>id</th>\n",
       "      <th>idOriginal</th>\n",
       "      <th>rotulo</th>\n",
       "      <th>classificacao</th>\n",
       "      <th>class_mac1</th>\n",
       "      <th>class_mac2</th>\n",
       "      <th>class_mac3</th>\n",
       "    </tr>\n",
       "  </thead>\n",
       "  <tbody>\n",
       "    <tr>\n",
       "      <th>0</th>\n",
       "      <td>2</td>\n",
       "      <td>853130</td>\n",
       "      <td>Real</td>\n",
       "      <td>fake</td>\n",
       "      <td>fake</td>\n",
       "      <td>fake</td>\n",
       "      <td>fake</td>\n",
       "    </tr>\n",
       "    <tr>\n",
       "      <th>1</th>\n",
       "      <td>5</td>\n",
       "      <td>853862</td>\n",
       "      <td>Real</td>\n",
       "      <td>real</td>\n",
       "      <td>real</td>\n",
       "      <td>fake</td>\n",
       "      <td>fake</td>\n",
       "    </tr>\n",
       "    <tr>\n",
       "      <th>2</th>\n",
       "      <td>10</td>\n",
       "      <td>883038</td>\n",
       "      <td>Real</td>\n",
       "      <td>fake</td>\n",
       "      <td>fake</td>\n",
       "      <td>fake</td>\n",
       "      <td>fake</td>\n",
       "    </tr>\n",
       "    <tr>\n",
       "      <th>3</th>\n",
       "      <td>11</td>\n",
       "      <td>843877</td>\n",
       "      <td>Real</td>\n",
       "      <td>real</td>\n",
       "      <td>real</td>\n",
       "      <td>fake</td>\n",
       "      <td>fake</td>\n",
       "    </tr>\n",
       "    <tr>\n",
       "      <th>4</th>\n",
       "      <td>14</td>\n",
       "      <td>954723</td>\n",
       "      <td>Real</td>\n",
       "      <td>fake</td>\n",
       "      <td>fake</td>\n",
       "      <td>fake</td>\n",
       "      <td>fake</td>\n",
       "    </tr>\n",
       "    <tr>\n",
       "      <th>...</th>\n",
       "      <td>...</td>\n",
       "      <td>...</td>\n",
       "      <td>...</td>\n",
       "      <td>...</td>\n",
       "      <td>...</td>\n",
       "      <td>...</td>\n",
       "      <td>...</td>\n",
       "    </tr>\n",
       "    <tr>\n",
       "      <th>4976</th>\n",
       "      <td>9995</td>\n",
       "      <td>7855996289</td>\n",
       "      <td>Fake</td>\n",
       "      <td>fake</td>\n",
       "      <td>fake</td>\n",
       "      <td>fake</td>\n",
       "      <td>fake</td>\n",
       "    </tr>\n",
       "    <tr>\n",
       "      <th>4977</th>\n",
       "      <td>9996</td>\n",
       "      <td>9193321517</td>\n",
       "      <td>Fake</td>\n",
       "      <td>fake</td>\n",
       "      <td>fake</td>\n",
       "      <td>fake</td>\n",
       "      <td>fake</td>\n",
       "    </tr>\n",
       "    <tr>\n",
       "      <th>4978</th>\n",
       "      <td>9998</td>\n",
       "      <td>2332731598</td>\n",
       "      <td>Fake</td>\n",
       "      <td>fake</td>\n",
       "      <td>fake</td>\n",
       "      <td>fake</td>\n",
       "      <td>fake</td>\n",
       "    </tr>\n",
       "    <tr>\n",
       "      <th>4979</th>\n",
       "      <td>9999</td>\n",
       "      <td>157100313</td>\n",
       "      <td>Fake</td>\n",
       "      <td>fake</td>\n",
       "      <td>fake</td>\n",
       "      <td>fake</td>\n",
       "      <td>fake</td>\n",
       "    </tr>\n",
       "    <tr>\n",
       "      <th>4980</th>\n",
       "      <td>10000</td>\n",
       "      <td>1619644929</td>\n",
       "      <td>Fake</td>\n",
       "      <td>fake</td>\n",
       "      <td>fake</td>\n",
       "      <td>fake</td>\n",
       "      <td>fake</td>\n",
       "    </tr>\n",
       "  </tbody>\n",
       "</table>\n",
       "<p>4981 rows × 7 columns</p>\n",
       "</div>"
      ],
      "text/plain": [
       "         id  idOriginal rotulo classificacao class_mac1 class_mac2 class_mac3\n",
       "0         2      853130   Real          fake       fake       fake       fake\n",
       "1         5      853862   Real          real       real       fake       fake\n",
       "2        10      883038   Real          fake       fake       fake       fake\n",
       "3        11      843877   Real          real       real       fake       fake\n",
       "4        14      954723   Real          fake       fake       fake       fake\n",
       "...     ...         ...    ...           ...        ...        ...        ...\n",
       "4976   9995  7855996289   Fake          fake       fake       fake       fake\n",
       "4977   9996  9193321517   Fake          fake       fake       fake       fake\n",
       "4978   9998  2332731598   Fake          fake       fake       fake       fake\n",
       "4979   9999   157100313   Fake          fake       fake       fake       fake\n",
       "4980  10000  1619644929   Fake          fake       fake       fake       fake\n",
       "\n",
       "[4981 rows x 7 columns]"
      ]
     },
     "execution_count": 196,
     "metadata": {},
     "output_type": "execute_result"
    }
   ],
   "source": [
    "ResulttesteGossipMaq1234"
   ]
  },
  {
   "cell_type": "code",
   "execution_count": 197,
   "id": "a4f348bc",
   "metadata": {},
   "outputs": [],
   "source": [
    "ResulttesteGossipMaq1234['rotulo'].replace(['Fake', 'Real'],[0, 1], inplace=True)\n",
    "ResulttesteGossipMaq1234['class_mac1'].replace(['fake', 'real'],[0, 1], inplace=True)\n",
    "ResulttesteGossipMaq1234['class_mac2'].replace(['fake', 'real'],[0, 1], inplace=True)\n",
    "ResulttesteGossipMaq1234['class_mac3'].replace(['fake', 'real'],[0, 1], inplace=True)\n"
   ]
  },
  {
   "cell_type": "code",
   "execution_count": 198,
   "id": "081aafd8",
   "metadata": {},
   "outputs": [],
   "source": [
    "ResulttesteGossipMaq1234['vote'] = round(ResulttesteGossipMaq1234[['class_mac1','class_mac2','class_mac3']].mean(numeric_only=True, axis=1))\n",
    "ResulttesteGossipMaq1234['vote'].replace(['0.0', '1.0'],[0, 1], inplace=True)"
   ]
  },
  {
   "cell_type": "code",
   "execution_count": 199,
   "id": "50ce46ad",
   "metadata": {},
   "outputs": [
    {
     "data": {
      "text/html": [
       "<div>\n",
       "<style scoped>\n",
       "    .dataframe tbody tr th:only-of-type {\n",
       "        vertical-align: middle;\n",
       "    }\n",
       "\n",
       "    .dataframe tbody tr th {\n",
       "        vertical-align: top;\n",
       "    }\n",
       "\n",
       "    .dataframe thead th {\n",
       "        text-align: right;\n",
       "    }\n",
       "</style>\n",
       "<table border=\"1\" class=\"dataframe\">\n",
       "  <thead>\n",
       "    <tr style=\"text-align: right;\">\n",
       "      <th></th>\n",
       "      <th>id</th>\n",
       "      <th>idOriginal</th>\n",
       "      <th>rotulo</th>\n",
       "      <th>classificacao</th>\n",
       "      <th>class_mac1</th>\n",
       "      <th>class_mac2</th>\n",
       "      <th>class_mac3</th>\n",
       "      <th>vote</th>\n",
       "    </tr>\n",
       "  </thead>\n",
       "  <tbody>\n",
       "    <tr>\n",
       "      <th>0</th>\n",
       "      <td>2</td>\n",
       "      <td>853130</td>\n",
       "      <td>1</td>\n",
       "      <td>fake</td>\n",
       "      <td>0</td>\n",
       "      <td>0</td>\n",
       "      <td>0</td>\n",
       "      <td>0.0</td>\n",
       "    </tr>\n",
       "    <tr>\n",
       "      <th>1</th>\n",
       "      <td>5</td>\n",
       "      <td>853862</td>\n",
       "      <td>1</td>\n",
       "      <td>real</td>\n",
       "      <td>1</td>\n",
       "      <td>0</td>\n",
       "      <td>0</td>\n",
       "      <td>0.0</td>\n",
       "    </tr>\n",
       "    <tr>\n",
       "      <th>2</th>\n",
       "      <td>10</td>\n",
       "      <td>883038</td>\n",
       "      <td>1</td>\n",
       "      <td>fake</td>\n",
       "      <td>0</td>\n",
       "      <td>0</td>\n",
       "      <td>0</td>\n",
       "      <td>0.0</td>\n",
       "    </tr>\n",
       "    <tr>\n",
       "      <th>3</th>\n",
       "      <td>11</td>\n",
       "      <td>843877</td>\n",
       "      <td>1</td>\n",
       "      <td>real</td>\n",
       "      <td>1</td>\n",
       "      <td>0</td>\n",
       "      <td>0</td>\n",
       "      <td>0.0</td>\n",
       "    </tr>\n",
       "    <tr>\n",
       "      <th>4</th>\n",
       "      <td>14</td>\n",
       "      <td>954723</td>\n",
       "      <td>1</td>\n",
       "      <td>fake</td>\n",
       "      <td>0</td>\n",
       "      <td>0</td>\n",
       "      <td>0</td>\n",
       "      <td>0.0</td>\n",
       "    </tr>\n",
       "    <tr>\n",
       "      <th>...</th>\n",
       "      <td>...</td>\n",
       "      <td>...</td>\n",
       "      <td>...</td>\n",
       "      <td>...</td>\n",
       "      <td>...</td>\n",
       "      <td>...</td>\n",
       "      <td>...</td>\n",
       "      <td>...</td>\n",
       "    </tr>\n",
       "    <tr>\n",
       "      <th>4976</th>\n",
       "      <td>9995</td>\n",
       "      <td>7855996289</td>\n",
       "      <td>0</td>\n",
       "      <td>fake</td>\n",
       "      <td>0</td>\n",
       "      <td>0</td>\n",
       "      <td>0</td>\n",
       "      <td>0.0</td>\n",
       "    </tr>\n",
       "    <tr>\n",
       "      <th>4977</th>\n",
       "      <td>9996</td>\n",
       "      <td>9193321517</td>\n",
       "      <td>0</td>\n",
       "      <td>fake</td>\n",
       "      <td>0</td>\n",
       "      <td>0</td>\n",
       "      <td>0</td>\n",
       "      <td>0.0</td>\n",
       "    </tr>\n",
       "    <tr>\n",
       "      <th>4978</th>\n",
       "      <td>9998</td>\n",
       "      <td>2332731598</td>\n",
       "      <td>0</td>\n",
       "      <td>fake</td>\n",
       "      <td>0</td>\n",
       "      <td>0</td>\n",
       "      <td>0</td>\n",
       "      <td>0.0</td>\n",
       "    </tr>\n",
       "    <tr>\n",
       "      <th>4979</th>\n",
       "      <td>9999</td>\n",
       "      <td>157100313</td>\n",
       "      <td>0</td>\n",
       "      <td>fake</td>\n",
       "      <td>0</td>\n",
       "      <td>0</td>\n",
       "      <td>0</td>\n",
       "      <td>0.0</td>\n",
       "    </tr>\n",
       "    <tr>\n",
       "      <th>4980</th>\n",
       "      <td>10000</td>\n",
       "      <td>1619644929</td>\n",
       "      <td>0</td>\n",
       "      <td>fake</td>\n",
       "      <td>0</td>\n",
       "      <td>0</td>\n",
       "      <td>0</td>\n",
       "      <td>0.0</td>\n",
       "    </tr>\n",
       "  </tbody>\n",
       "</table>\n",
       "<p>4981 rows × 8 columns</p>\n",
       "</div>"
      ],
      "text/plain": [
       "         id  idOriginal  rotulo classificacao  class_mac1  class_mac2  \\\n",
       "0         2      853130       1          fake           0           0   \n",
       "1         5      853862       1          real           1           0   \n",
       "2        10      883038       1          fake           0           0   \n",
       "3        11      843877       1          real           1           0   \n",
       "4        14      954723       1          fake           0           0   \n",
       "...     ...         ...     ...           ...         ...         ...   \n",
       "4976   9995  7855996289       0          fake           0           0   \n",
       "4977   9996  9193321517       0          fake           0           0   \n",
       "4978   9998  2332731598       0          fake           0           0   \n",
       "4979   9999   157100313       0          fake           0           0   \n",
       "4980  10000  1619644929       0          fake           0           0   \n",
       "\n",
       "      class_mac3  vote  \n",
       "0              0   0.0  \n",
       "1              0   0.0  \n",
       "2              0   0.0  \n",
       "3              0   0.0  \n",
       "4              0   0.0  \n",
       "...          ...   ...  \n",
       "4976           0   0.0  \n",
       "4977           0   0.0  \n",
       "4978           0   0.0  \n",
       "4979           0   0.0  \n",
       "4980           0   0.0  \n",
       "\n",
       "[4981 rows x 8 columns]"
      ]
     },
     "execution_count": 199,
     "metadata": {},
     "output_type": "execute_result"
    }
   ],
   "source": [
    "ResulttesteGossipMaq1234"
   ]
  },
  {
   "cell_type": "markdown",
   "id": "ced352fc",
   "metadata": {},
   "source": [
    "# Dataset Split"
   ]
  },
  {
   "cell_type": "code",
   "execution_count": 200,
   "id": "889e81e8",
   "metadata": {},
   "outputs": [],
   "source": [
    "x = ResulttesteGossipMaq1234[['class_mac1','class_mac2','class_mac3']]\n",
    "y = ResulttesteGossipMaq1234['rotulo']"
   ]
  },
  {
   "cell_type": "code",
   "execution_count": 201,
   "id": "a2fd7f98",
   "metadata": {
    "scrolled": true
   },
   "outputs": [
    {
     "data": {
      "text/html": [
       "<div>\n",
       "<style scoped>\n",
       "    .dataframe tbody tr th:only-of-type {\n",
       "        vertical-align: middle;\n",
       "    }\n",
       "\n",
       "    .dataframe tbody tr th {\n",
       "        vertical-align: top;\n",
       "    }\n",
       "\n",
       "    .dataframe thead th {\n",
       "        text-align: right;\n",
       "    }\n",
       "</style>\n",
       "<table border=\"1\" class=\"dataframe\">\n",
       "  <thead>\n",
       "    <tr style=\"text-align: right;\">\n",
       "      <th></th>\n",
       "      <th>class_mac1</th>\n",
       "      <th>class_mac2</th>\n",
       "      <th>class_mac3</th>\n",
       "    </tr>\n",
       "  </thead>\n",
       "  <tbody>\n",
       "    <tr>\n",
       "      <th>2560</th>\n",
       "      <td>0</td>\n",
       "      <td>0</td>\n",
       "      <td>0</td>\n",
       "    </tr>\n",
       "    <tr>\n",
       "      <th>3492</th>\n",
       "      <td>0</td>\n",
       "      <td>0</td>\n",
       "      <td>0</td>\n",
       "    </tr>\n",
       "    <tr>\n",
       "      <th>4936</th>\n",
       "      <td>0</td>\n",
       "      <td>0</td>\n",
       "      <td>0</td>\n",
       "    </tr>\n",
       "    <tr>\n",
       "      <th>1760</th>\n",
       "      <td>1</td>\n",
       "      <td>1</td>\n",
       "      <td>1</td>\n",
       "    </tr>\n",
       "    <tr>\n",
       "      <th>1480</th>\n",
       "      <td>1</td>\n",
       "      <td>1</td>\n",
       "      <td>1</td>\n",
       "    </tr>\n",
       "    <tr>\n",
       "      <th>3744</th>\n",
       "      <td>0</td>\n",
       "      <td>0</td>\n",
       "      <td>0</td>\n",
       "    </tr>\n",
       "    <tr>\n",
       "      <th>3942</th>\n",
       "      <td>0</td>\n",
       "      <td>0</td>\n",
       "      <td>0</td>\n",
       "    </tr>\n",
       "    <tr>\n",
       "      <th>1708</th>\n",
       "      <td>1</td>\n",
       "      <td>1</td>\n",
       "      <td>1</td>\n",
       "    </tr>\n",
       "    <tr>\n",
       "      <th>2836</th>\n",
       "      <td>1</td>\n",
       "      <td>1</td>\n",
       "      <td>1</td>\n",
       "    </tr>\n",
       "    <tr>\n",
       "      <th>4097</th>\n",
       "      <td>0</td>\n",
       "      <td>0</td>\n",
       "      <td>0</td>\n",
       "    </tr>\n",
       "  </tbody>\n",
       "</table>\n",
       "</div>"
      ],
      "text/plain": [
       "      class_mac1  class_mac2  class_mac3\n",
       "2560           0           0           0\n",
       "3492           0           0           0\n",
       "4936           0           0           0\n",
       "1760           1           1           1\n",
       "1480           1           1           1\n",
       "3744           0           0           0\n",
       "3942           0           0           0\n",
       "1708           1           1           1\n",
       "2836           1           1           1\n",
       "4097           0           0           0"
      ]
     },
     "execution_count": 201,
     "metadata": {},
     "output_type": "execute_result"
    }
   ],
   "source": [
    "x_train, x_test, y_train, y_test = train_test_split(x,y, test_size = .4, random_state=500, shuffle=True)\n",
    "x_train.head(10)"
   ]
  },
  {
   "cell_type": "markdown",
   "id": "2a6e76ca",
   "metadata": {},
   "source": [
    "# KNN Ensemble"
   ]
  },
  {
   "cell_type": "markdown",
   "id": "a9b3eefe",
   "metadata": {},
   "source": [
    "**10-Fold Cross Validation**"
   ]
  },
  {
   "cell_type": "code",
   "execution_count": 202,
   "id": "09dd90ec",
   "metadata": {},
   "outputs": [
    {
     "name": "stdout",
     "output_type": "stream",
     "text": [
      "Acurácia dos Folds: \n",
      " [0.80561122 0.5060241  0.5060241  0.5060241  0.5060241  0.5060241\n",
      " 0.5060241  0.5060241  0.50401606 0.50401606] \n",
      "\n",
      "Acurácia Média:  0.5355812025657741 \n",
      "\n",
      "Desvio Padrão:  0.09001349078280581 \n",
      "\n",
      "Número de Folds:  10\n"
     ]
    }
   ],
   "source": [
    "knn = KNeighborsClassifier()\n",
    "scores = cross_val_score(knn, x, y, cv=10)\n",
    "print(\"Acurácia dos Folds: \\n\", scores,\"\\n\")\n",
    "print(\"Acurácia Média: \", scores.mean(),\"\\n\")\n",
    "print(\"Desvio Padrão: \", scores.std(),\"\\n\")\n",
    "print(\"Número de Folds: \", len(scores))"
   ]
  },
  {
   "cell_type": "markdown",
   "id": "6448af30",
   "metadata": {},
   "source": [
    "**BAGGING**"
   ]
  },
  {
   "cell_type": "code",
   "execution_count": 62,
   "id": "ce91d28b",
   "metadata": {},
   "outputs": [
    {
     "name": "stdout",
     "output_type": "stream",
     "text": [
      "Acurácia dos Folds: \n",
      " [0.80561122 0.54216867 0.95180723 0.9939759  1.         1.\n",
      " 1.         1.         0.99799197 1.        ] \n",
      "\n",
      "Acurácia Média:  0.929155499754529 \n",
      "\n",
      "Desvio Padrão:  0.14126922956935858 \n",
      "\n",
      "Número de Folds:  10\n"
     ]
    }
   ],
   "source": [
    "bag = BaggingClassifier(KNeighborsClassifier())\n",
    "scores = cross_val_score(bag, x, y, cv=10)\n",
    "print(\"Acurácia dos Folds: \\n\", scores,\"\\n\")\n",
    "print(\"Acurácia Média: \", scores.mean(),\"\\n\")\n",
    "print(\"Desvio Padrão: \", scores.std(),\"\\n\")\n",
    "print(\"Número de Folds: \", len(scores))"
   ]
  },
  {
   "cell_type": "markdown",
   "id": "dd7addf8",
   "metadata": {},
   "source": [
    "# Decision Tree Ensemble"
   ]
  },
  {
   "cell_type": "markdown",
   "id": "c3f58f4c",
   "metadata": {},
   "source": [
    "**10-Fold Cross Validation**"
   ]
  },
  {
   "cell_type": "code",
   "execution_count": 67,
   "id": "08a42c41",
   "metadata": {},
   "outputs": [
    {
     "name": "stdout",
     "output_type": "stream",
     "text": [
      "Acurácia dos Folds: \n",
      " [0.78557114 0.54216867 0.95180723 0.9939759  0.9939759  0.99598394\n",
      " 1.         0.99598394 0.99799197 0.99799197] \n",
      "\n",
      "Acurácia Média:  0.9255450660356856 \n",
      "\n",
      "Desvio Padrão:  0.14233387865209804 \n",
      "\n",
      "Número de Folds:  10\n"
     ]
    }
   ],
   "source": [
    "scores = cross_val_score(DT, x, y, cv=10)\n",
    "print(\"Acurácia dos Folds: \\n\", scores,\"\\n\")\n",
    "print(\"Acurácia Média: \", scores.mean(),\"\\n\")\n",
    "print(\"Desvio Padrão: \", scores.std(),\"\\n\")\n",
    "print(\"Número de Folds: \", len(scores))"
   ]
  },
  {
   "cell_type": "markdown",
   "id": "916cef7c",
   "metadata": {},
   "source": [
    "**BAGGING**"
   ]
  },
  {
   "cell_type": "code",
   "execution_count": 108,
   "id": "d0b5e51b",
   "metadata": {},
   "outputs": [
    {
     "name": "stdout",
     "output_type": "stream",
     "text": [
      "Acurácia dos Folds: \n",
      " [0.78557114 0.54216867 0.95180723 1.         0.9939759  1.\n",
      " 1.         0.99598394 1.         0.99799197] \n",
      "\n",
      "Acurácia Média:  0.9267498853127943 \n",
      "\n",
      "Desvio Padrão:  0.14293790900895031 \n",
      "\n",
      "Número de Folds:  10\n"
     ]
    }
   ],
   "source": [
    "bag = BaggingClassifier(DecisionTreeClassifier())\n",
    "scores = cross_val_score(bag, x, y, cv=10)\n",
    "print(\"Acurácia dos Folds: \\n\", scores,\"\\n\")\n",
    "print(\"Acurácia Média: \", scores.mean(),\"\\n\")\n",
    "print(\"Desvio Padrão: \", scores.std(),\"\\n\")\n",
    "print(\"Número de Folds: \", len(scores))"
   ]
  },
  {
   "cell_type": "markdown",
   "id": "e4403551",
   "metadata": {},
   "source": [
    "# Naive Bayes"
   ]
  },
  {
   "cell_type": "code",
   "execution_count": 120,
   "id": "9e4bc335",
   "metadata": {},
   "outputs": [
    {
     "name": "stdout",
     "output_type": "stream",
     "text": [
      "Acurácia dos Folds: \n",
      " [0.78957916 0.54216867 0.95783133 0.9939759  0.9939759  0.99598394\n",
      " 1.         0.99598394 0.99799197 0.99799197] \n",
      "\n",
      "Acurácia Média:  0.9265482772774465 \n",
      "\n",
      "Desvio Padrão:  0.1420654764055483 \n",
      "\n",
      "Número de Folds:  10\n"
     ]
    }
   ],
   "source": [
    "gnb = GaussianNB()\n",
    "scores = cross_val_score(gnb, x, y, cv=10)\n",
    "print(\"Acurácia dos Folds: \\n\", scores,\"\\n\")\n",
    "print(\"Acurácia Média: \", scores.mean(),\"\\n\")\n",
    "print(\"Desvio Padrão: \", scores.std(),\"\\n\")\n",
    "print(\"Número de Folds: \", len(scores))"
   ]
  },
  {
   "cell_type": "markdown",
   "id": "212c1e68",
   "metadata": {},
   "source": [
    "**BAGGING**"
   ]
  },
  {
   "cell_type": "code",
   "execution_count": 121,
   "id": "4a961d4d",
   "metadata": {},
   "outputs": [
    {
     "name": "stdout",
     "output_type": "stream",
     "text": [
      "Acurácia dos Folds: \n",
      " [0.78957916 0.54216867 0.95783133 0.9939759  0.9939759  0.99598394\n",
      " 1.         0.99598394 0.99799197 0.99799197] \n",
      "\n",
      "Acurácia Média:  0.9265482772774465 \n",
      "\n",
      "Desvio Padrão:  0.1420654764055483 \n",
      "\n",
      "Número de Folds:  10\n"
     ]
    }
   ],
   "source": [
    "bag = BaggingClassifier(GaussianNB())\n",
    "scores = cross_val_score(bag, x, y, cv=10)\n",
    "print(\"Acurácia dos Folds: \\n\", scores,\"\\n\")\n",
    "print(\"Acurácia Média: \", scores.mean(),\"\\n\")\n",
    "print(\"Desvio Padrão: \", scores.std(),\"\\n\")\n",
    "print(\"Número de Folds: \", len(scores))"
   ]
  },
  {
   "cell_type": "markdown",
   "id": "be05f3cb",
   "metadata": {},
   "source": [
    "# SVM"
   ]
  },
  {
   "cell_type": "code",
   "execution_count": 129,
   "id": "0c483045",
   "metadata": {},
   "outputs": [
    {
     "name": "stdout",
     "output_type": "stream",
     "text": [
      "Acurácia dos Folds: \n",
      " [0.78557114 0.54216867 0.95180723 0.9939759  0.9939759  0.99598394\n",
      " 1.         0.99598394 0.99799197 0.99799197] \n",
      "\n",
      "Acurácia Média:  0.9255450660356856 \n",
      "\n",
      "Desvio Padrão:  0.14233387865209804 \n",
      "\n",
      "Número de Folds:  10\n"
     ]
    }
   ],
   "source": [
    "clf = svm.SVC()\n",
    "scores = cross_val_score(clf, x, y, cv=10)\n",
    "print(\"Acurácia dos Folds: \\n\", scores,\"\\n\")\n",
    "print(\"Acurácia Média: \", scores.mean(),\"\\n\")\n",
    "print(\"Desvio Padrão: \", scores.std(),\"\\n\")\n",
    "print(\"Número de Folds: \", len(scores))"
   ]
  },
  {
   "cell_type": "markdown",
   "id": "d3ac12ff",
   "metadata": {},
   "source": [
    "**BAGGING**"
   ]
  },
  {
   "cell_type": "code",
   "execution_count": 137,
   "id": "cc5df4bd",
   "metadata": {},
   "outputs": [
    {
     "name": "stdout",
     "output_type": "stream",
     "text": [
      "Acurácia dos Folds: \n",
      " [0.78557114 0.54216867 0.95180723 1.         0.9939759  0.99598394\n",
      " 1.         0.99598394 0.99799197 0.99799197] \n",
      "\n",
      "Acurácia Média:  0.9261474756742398 \n",
      "\n",
      "Desvio Padrão:  0.14263465876415646 \n",
      "\n",
      "Número de Folds:  10\n"
     ]
    }
   ],
   "source": [
    "bag = BaggingClassifier(svm.SVC())\n",
    "scores = cross_val_score(bag, x, y, cv=10)\n",
    "print(\"Acurácia dos Folds: \\n\", scores,\"\\n\")\n",
    "print(\"Acurácia Média: \", scores.mean(),\"\\n\")\n",
    "print(\"Desvio Padrão: \", scores.std(),\"\\n\")\n",
    "print(\"Número de Folds: \", len(scores))"
   ]
  },
  {
   "cell_type": "markdown",
   "id": "742fe42d",
   "metadata": {},
   "source": [
    "# MLP"
   ]
  },
  {
   "cell_type": "code",
   "execution_count": 31,
   "id": "6fcdc33a",
   "metadata": {},
   "outputs": [
    {
     "name": "stdout",
     "output_type": "stream",
     "text": [
      "Acurácia dos Folds: \n",
      " [0.78557114 0.54216867 0.95381526 0.9939759  0.9939759  0.99598394\n",
      " 1.         0.99598394 0.99799197 1.        ] \n",
      "\n",
      "Acurácia Média:  0.9259466724613887 \n",
      "\n",
      "Desvio Padrão:  0.14247533245337524 \n",
      "\n",
      "Número de Folds:  10\n"
     ]
    }
   ],
   "source": [
    "mlp = MLPClassifier()\n",
    "scores = cross_val_score(mlp, x, y, cv=10)\n",
    "print(\"Acurácia dos Folds: \\n\", scores,\"\\n\")\n",
    "print(\"Acurácia Média: \", scores.mean(),\"\\n\")\n",
    "print(\"Desvio Padrão: \", scores.std(),\"\\n\")\n",
    "print(\"Número de Folds: \", len(scores))"
   ]
  },
  {
   "cell_type": "markdown",
   "id": "63b1f63f",
   "metadata": {},
   "source": [
    "**BAGGING**"
   ]
  },
  {
   "cell_type": "code",
   "execution_count": 138,
   "id": "a4628b20",
   "metadata": {},
   "outputs": [
    {
     "name": "stdout",
     "output_type": "stream",
     "text": [
      "Acurácia dos Folds: \n",
      " [0.78557114 0.54216867 0.95381526 0.9939759  0.9939759  1.\n",
      " 1.         1.         0.99799197 1.        ] \n",
      "\n",
      "Acurácia Média:  0.9267498853127943 \n",
      "\n",
      "Desvio Padrão:  0.14287865698251978 \n",
      "\n",
      "Número de Folds:  10\n"
     ]
    }
   ],
   "source": [
    "bag = BaggingClassifier(MLPClassifier())\n",
    "scores = cross_val_score(bag, x, y, cv=10)\n",
    "print(\"Acurácia dos Folds: \\n\", scores,\"\\n\")\n",
    "print(\"Acurácia Média: \", scores.mean(),\"\\n\")\n",
    "print(\"Desvio Padrão: \", scores.std(),\"\\n\")\n",
    "print(\"Número de Folds: \", len(scores))"
   ]
  },
  {
   "cell_type": "markdown",
   "id": "8432c8c1",
   "metadata": {},
   "source": [
    "# Logistic Regression"
   ]
  },
  {
   "cell_type": "code",
   "execution_count": 80,
   "id": "5f6bdb04",
   "metadata": {},
   "outputs": [
    {
     "name": "stdout",
     "output_type": "stream",
     "text": [
      "Acurácia dos Folds: \n",
      " [0.78557114 0.54216867 0.95381526 0.9939759  0.9939759  0.99598394\n",
      " 1.         0.99598394 0.99799197 1.        ] \n",
      "\n",
      "Acurácia Média:  0.9259466724613887 \n",
      "\n",
      "Desvio Padrão:  0.14247533245337524 \n",
      "\n",
      "Número de Folds:  10\n"
     ]
    }
   ],
   "source": [
    "LogReg = LogisticRegression()\n",
    "scores = cross_val_score(LogReg, x, y, cv=10)\n",
    "print(\"Acurácia dos Folds: \\n\", scores,\"\\n\")\n",
    "print(\"Acurácia Média: \", scores.mean(),\"\\n\")\n",
    "print(\"Desvio Padrão: \", scores.std(),\"\\n\")\n",
    "print(\"Número de Folds: \", len(scores))"
   ]
  },
  {
   "cell_type": "markdown",
   "id": "f5627212",
   "metadata": {},
   "source": [
    "**BAGGING**"
   ]
  },
  {
   "cell_type": "code",
   "execution_count": 160,
   "id": "b11affb2",
   "metadata": {},
   "outputs": [
    {
     "name": "stdout",
     "output_type": "stream",
     "text": [
      "Acurácia dos Folds: \n",
      " [0.78557114 0.54216867 0.95381526 1.         0.9939759  0.99598394\n",
      " 1.         0.99598394 0.99799197 1.        ] \n",
      "\n",
      "Acurácia Média:  0.9265490820999428 \n",
      "\n",
      "Desvio Padrão:  0.14277412007487034 \n",
      "\n",
      "Número de Folds:  10\n"
     ]
    }
   ],
   "source": [
    "bag = BaggingClassifier(LogisticRegression())\n",
    "scores = cross_val_score(bag, x, y, cv=10)\n",
    "print(\"Acurácia dos Folds: \\n\", scores,\"\\n\")\n",
    "print(\"Acurácia Média: \", scores.mean(),\"\\n\")\n",
    "print(\"Desvio Padrão: \", scores.std(),\"\\n\")\n",
    "print(\"Número de Folds: \", len(scores))"
   ]
  },
  {
   "cell_type": "markdown",
   "id": "6eb9a1ba",
   "metadata": {},
   "source": [
    "# Random Forest"
   ]
  },
  {
   "cell_type": "code",
   "execution_count": 203,
   "id": "9ee5dc85",
   "metadata": {},
   "outputs": [
    {
     "name": "stdout",
     "output_type": "stream",
     "text": [
      "Acurácia dos Folds: \n",
      " [0.78557114 0.54216867 0.95180723 0.9939759  0.9939759  1.\n",
      " 1.         0.99598394 0.99799197 0.99799197] \n",
      "\n",
      "Average CV Score:  0.9259466724613887 \n",
      "\n",
      "Desvio Padrão:  0.14253758103401373 \n",
      "\n",
      "Number of CV Scores used in Average:  10\n"
     ]
    }
   ],
   "source": [
    "rf = RandomForestClassifier()\n",
    "scores = cross_val_score(rf, x, y, cv=10)\n",
    "print(\"Acurácia dos Folds: \\n\", scores,\"\\n\")\n",
    "print(\"Average CV Score: \", scores.mean(),\"\\n\")\n",
    "print(\"Desvio Padrão: \", scores.std(),\"\\n\")\n",
    "print(\"Number of CV Scores used in Average: \", len(scores))"
   ]
  },
  {
   "cell_type": "markdown",
   "id": "51d9206d",
   "metadata": {},
   "source": [
    "**BAGGING**"
   ]
  },
  {
   "cell_type": "code",
   "execution_count": 168,
   "id": "ffd418d1",
   "metadata": {},
   "outputs": [
    {
     "name": "stdout",
     "output_type": "stream",
     "text": [
      "Acurácia dos Folds: \n",
      " [0.78557114 0.54216867 0.95180723 1.         0.9939759  0.99598394\n",
      " 1.         0.99598394 1.         1.        ] \n",
      "\n",
      "Acurácia Média:  0.9265490820999428 \n",
      "\n",
      "Desvio Padrão:  0.14283906136308638 \n",
      "\n",
      "Número de Folds:  10\n"
     ]
    }
   ],
   "source": [
    "bag = BaggingClassifier(RandomForestClassifier())\n",
    "scores = cross_val_score(bag, x, y, cv=10)\n",
    "print(\"Acurácia dos Folds: \\n\", scores,\"\\n\")\n",
    "print(\"Acurácia Média: \", scores.mean(),\"\\n\")\n",
    "print(\"Desvio Padrão: \", scores.std(),\"\\n\")\n",
    "print(\"Número de Folds: \", len(scores))"
   ]
  },
  {
   "cell_type": "markdown",
   "id": "d6d41f52",
   "metadata": {},
   "source": [
    "# Vote Classifier Ensemble"
   ]
  },
  {
   "cell_type": "code",
   "execution_count": 206,
   "id": "0890f53d",
   "metadata": {},
   "outputs": [
    {
     "name": "stdout",
     "output_type": "stream",
     "text": [
      "Accuracy: 0.9276 (+/- 0.1431) [KNN]\n",
      "Accuracy: 0.9259 (+/- 0.1425) [DT]\n",
      "Accuracy: 0.9261 (+/- 0.1426) [SVM]\n",
      "Accuracy: 0.9263 (+/- 0.1427) [Ensemble]\n"
     ]
    }
   ],
   "source": [
    "from sklearn.neighbors import KNeighborsClassifier\n",
    "from sklearn.ensemble import VotingClassifier\n",
    "from sklearn.model_selection import cross_val_score\n",
    "from sklearn import svm\n",
    "from sklearn.tree import DecisionTreeClassifier\n",
    "from sklearn.naive_bayes import GaussianNB\n",
    "from sklearn.ensemble import RandomForestClassifier\n",
    "\n",
    "clf1 = BaggingClassifier(KNeighborsClassifier())\n",
    "clf2 = BaggingClassifier(LogisticRegression())\n",
    "clf3 = BaggingClassifier(DecisionTreeClassifier())\n",
    "eclf = VotingClassifier(estimators=[('BG KNN', clf1), ('BG LF', clf2), ('BG DT', clf3)],voting='hard')\n",
    "\n",
    "for clf, label in zip([clf1, clf2, clf3, eclf], ['KNN', 'DT', 'SVM', 'Ensemble']):\n",
    "  scores = cross_val_score(clf, x, y, scoring='accuracy', cv=10)\n",
    "  print(\"Accuracy: %0.4f (+/- %0.4f) [%s]\" % (scores.mean(), scores.std(), label))\n"
   ]
  }
 ],
 "metadata": {
  "kernelspec": {
   "display_name": "Python 3 (ipykernel)",
   "language": "python",
   "name": "python3"
  },
  "language_info": {
   "codemirror_mode": {
    "name": "ipython",
    "version": 3
   },
   "file_extension": ".py",
   "mimetype": "text/x-python",
   "name": "python",
   "nbconvert_exporter": "python",
   "pygments_lexer": "ipython3",
   "version": "3.11.2"
  }
 },
 "nbformat": 4,
 "nbformat_minor": 5
}
