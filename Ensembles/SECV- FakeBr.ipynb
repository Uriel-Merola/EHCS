{
 "cells": [
  {
   "cell_type": "code",
   "execution_count": 27,
   "id": "c1305c44",
   "metadata": {},
   "outputs": [],
   "source": [
    "# -*- coding: utf-8 -*-\n",
    "import pandas as pd\n",
    "import numpy as np\n",
    "from sklearn.model_selection import train_test_split\n",
    "from sklearn.metrics import classification_report\n",
    "from sklearn.metrics import accuracy_score\n",
    "from sklearn.neighbors import KNeighborsClassifier\n",
    "from sklearn.tree import DecisionTreeClassifier\n",
    "from sklearn.naive_bayes import GaussianNB\n",
    "from sklearn.linear_model import LogisticRegression\n",
    "from sklearn import svm\n",
    "from sklearn.neural_network import MLPClassifier\n",
    "from sklearn.ensemble import BaggingClassifier\n",
    "from sklearn.model_selection import cross_val_score\n",
    "from sklearn.model_selection import GridSearchCV\n",
    "from sklearn.metrics import roc_auc_score\n",
    "from sklearn.ensemble import RandomForestClassifier"
   ]
  },
  {
   "cell_type": "markdown",
   "id": "8f7e3a7d",
   "metadata": {},
   "source": [
    "# Leitura de Datasets e Pré-processamento"
   ]
  },
  {
   "cell_type": "code",
   "execution_count": 28,
   "id": "254d53bb",
   "metadata": {},
   "outputs": [],
   "source": [
    "FakeBrMaq12 = pd.read_csv(r\"D:\\HCS\\Codigos em R\\FakeBr\\FakeBr\\FakeBrMaq12.csv\",sep=';')"
   ]
  },
  {
   "cell_type": "code",
   "execution_count": 29,
   "id": "d517da56",
   "metadata": {},
   "outputs": [
    {
     "data": {
      "text/html": [
       "<div>\n",
       "<style scoped>\n",
       "    .dataframe tbody tr th:only-of-type {\n",
       "        vertical-align: middle;\n",
       "    }\n",
       "\n",
       "    .dataframe tbody tr th {\n",
       "        vertical-align: top;\n",
       "    }\n",
       "\n",
       "    .dataframe thead th {\n",
       "        text-align: right;\n",
       "    }\n",
       "</style>\n",
       "<table border=\"1\" class=\"dataframe\">\n",
       "  <thead>\n",
       "    <tr style=\"text-align: right;\">\n",
       "      <th></th>\n",
       "      <th>id</th>\n",
       "      <th>idOriginal</th>\n",
       "      <th>rotulo</th>\n",
       "      <th>class_mac1</th>\n",
       "      <th>class_mac2</th>\n",
       "    </tr>\n",
       "  </thead>\n",
       "  <tbody>\n",
       "    <tr>\n",
       "      <th>0</th>\n",
       "      <td>3555</td>\n",
       "      <td>3555</td>\n",
       "      <td>Real</td>\n",
       "      <td>real</td>\n",
       "      <td>real</td>\n",
       "    </tr>\n",
       "    <tr>\n",
       "      <th>1</th>\n",
       "      <td>5677</td>\n",
       "      <td>2075</td>\n",
       "      <td>Fake</td>\n",
       "      <td>fake</td>\n",
       "      <td>real</td>\n",
       "    </tr>\n",
       "    <tr>\n",
       "      <th>2</th>\n",
       "      <td>6232</td>\n",
       "      <td>2630</td>\n",
       "      <td>Fake</td>\n",
       "      <td>fake</td>\n",
       "      <td>fake</td>\n",
       "    </tr>\n",
       "    <tr>\n",
       "      <th>3</th>\n",
       "      <td>3630</td>\n",
       "      <td>28</td>\n",
       "      <td>Fake</td>\n",
       "      <td>fake</td>\n",
       "      <td>real</td>\n",
       "    </tr>\n",
       "    <tr>\n",
       "      <th>4</th>\n",
       "      <td>320</td>\n",
       "      <td>320</td>\n",
       "      <td>Real</td>\n",
       "      <td>real</td>\n",
       "      <td>real</td>\n",
       "    </tr>\n",
       "    <tr>\n",
       "      <th>...</th>\n",
       "      <td>...</td>\n",
       "      <td>...</td>\n",
       "      <td>...</td>\n",
       "      <td>...</td>\n",
       "      <td>...</td>\n",
       "    </tr>\n",
       "    <tr>\n",
       "      <th>3647</th>\n",
       "      <td>901</td>\n",
       "      <td>901</td>\n",
       "      <td>Real</td>\n",
       "      <td>fake</td>\n",
       "      <td>fake</td>\n",
       "    </tr>\n",
       "    <tr>\n",
       "      <th>3648</th>\n",
       "      <td>3744</td>\n",
       "      <td>142</td>\n",
       "      <td>Fake</td>\n",
       "      <td>fake</td>\n",
       "      <td>real</td>\n",
       "    </tr>\n",
       "    <tr>\n",
       "      <th>3649</th>\n",
       "      <td>433</td>\n",
       "      <td>433</td>\n",
       "      <td>Real</td>\n",
       "      <td>real</td>\n",
       "      <td>real</td>\n",
       "    </tr>\n",
       "    <tr>\n",
       "      <th>3650</th>\n",
       "      <td>6744</td>\n",
       "      <td>3142</td>\n",
       "      <td>Fake</td>\n",
       "      <td>fake</td>\n",
       "      <td>real</td>\n",
       "    </tr>\n",
       "    <tr>\n",
       "      <th>3651</th>\n",
       "      <td>1662</td>\n",
       "      <td>1662</td>\n",
       "      <td>Real</td>\n",
       "      <td>real</td>\n",
       "      <td>real</td>\n",
       "    </tr>\n",
       "  </tbody>\n",
       "</table>\n",
       "<p>3652 rows × 5 columns</p>\n",
       "</div>"
      ],
      "text/plain": [
       "        id  idOriginal rotulo class_mac1 class_mac2\n",
       "0     3555        3555   Real       real       real\n",
       "1     5677        2075   Fake       fake       real\n",
       "2     6232        2630   Fake       fake       fake\n",
       "3     3630          28   Fake       fake       real\n",
       "4      320         320   Real       real       real\n",
       "...    ...         ...    ...        ...        ...\n",
       "3647   901         901   Real       fake       fake\n",
       "3648  3744         142   Fake       fake       real\n",
       "3649   433         433   Real       real       real\n",
       "3650  6744        3142   Fake       fake       real\n",
       "3651  1662        1662   Real       real       real\n",
       "\n",
       "[3652 rows x 5 columns]"
      ]
     },
     "execution_count": 29,
     "metadata": {},
     "output_type": "execute_result"
    }
   ],
   "source": [
    "FakeBrMaq12"
   ]
  },
  {
   "cell_type": "code",
   "execution_count": 30,
   "id": "a4f348bc",
   "metadata": {},
   "outputs": [],
   "source": [
    "FakeBrMaq12['rotulo'].replace(['Fake', 'Real'],[0, 1], inplace=True)\n",
    "FakeBrMaq12['class_mac1'].replace(['fake', 'real'],[0, 1], inplace=True)\n",
    "FakeBrMaq12['class_mac2'].replace(['fake', 'real'],[0, 1], inplace=True)"
   ]
  },
  {
   "cell_type": "markdown",
   "id": "3856d777",
   "metadata": {},
   "source": [
    "# Dataset Split"
   ]
  },
  {
   "cell_type": "code",
   "execution_count": 31,
   "id": "889e81e8",
   "metadata": {},
   "outputs": [],
   "source": [
    "x = FakeBrMaq12[['class_mac1','class_mac2']]\n",
    "y = FakeBrMaq12['rotulo']"
   ]
  },
  {
   "cell_type": "code",
   "execution_count": 32,
   "id": "a2fd7f98",
   "metadata": {
    "scrolled": true
   },
   "outputs": [
    {
     "data": {
      "text/html": [
       "<div>\n",
       "<style scoped>\n",
       "    .dataframe tbody tr th:only-of-type {\n",
       "        vertical-align: middle;\n",
       "    }\n",
       "\n",
       "    .dataframe tbody tr th {\n",
       "        vertical-align: top;\n",
       "    }\n",
       "\n",
       "    .dataframe thead th {\n",
       "        text-align: right;\n",
       "    }\n",
       "</style>\n",
       "<table border=\"1\" class=\"dataframe\">\n",
       "  <thead>\n",
       "    <tr style=\"text-align: right;\">\n",
       "      <th></th>\n",
       "      <th>class_mac1</th>\n",
       "      <th>class_mac2</th>\n",
       "    </tr>\n",
       "  </thead>\n",
       "  <tbody>\n",
       "    <tr>\n",
       "      <th>381</th>\n",
       "      <td>0</td>\n",
       "      <td>0</td>\n",
       "    </tr>\n",
       "    <tr>\n",
       "      <th>3251</th>\n",
       "      <td>0</td>\n",
       "      <td>0</td>\n",
       "    </tr>\n",
       "    <tr>\n",
       "      <th>3061</th>\n",
       "      <td>1</td>\n",
       "      <td>1</td>\n",
       "    </tr>\n",
       "    <tr>\n",
       "      <th>1748</th>\n",
       "      <td>0</td>\n",
       "      <td>0</td>\n",
       "    </tr>\n",
       "    <tr>\n",
       "      <th>440</th>\n",
       "      <td>1</td>\n",
       "      <td>1</td>\n",
       "    </tr>\n",
       "    <tr>\n",
       "      <th>158</th>\n",
       "      <td>0</td>\n",
       "      <td>0</td>\n",
       "    </tr>\n",
       "    <tr>\n",
       "      <th>306</th>\n",
       "      <td>1</td>\n",
       "      <td>1</td>\n",
       "    </tr>\n",
       "    <tr>\n",
       "      <th>2587</th>\n",
       "      <td>0</td>\n",
       "      <td>0</td>\n",
       "    </tr>\n",
       "    <tr>\n",
       "      <th>1457</th>\n",
       "      <td>0</td>\n",
       "      <td>1</td>\n",
       "    </tr>\n",
       "    <tr>\n",
       "      <th>1634</th>\n",
       "      <td>1</td>\n",
       "      <td>1</td>\n",
       "    </tr>\n",
       "  </tbody>\n",
       "</table>\n",
       "</div>"
      ],
      "text/plain": [
       "      class_mac1  class_mac2\n",
       "381            0           0\n",
       "3251           0           0\n",
       "3061           1           1\n",
       "1748           0           0\n",
       "440            1           1\n",
       "158            0           0\n",
       "306            1           1\n",
       "2587           0           0\n",
       "1457           0           1\n",
       "1634           1           1"
      ]
     },
     "execution_count": 32,
     "metadata": {},
     "output_type": "execute_result"
    }
   ],
   "source": [
    "x_train, x_test, y_train, y_test = train_test_split(x,y, test_size = .6, random_state=500, shuffle=True)\n",
    "x_train.head(10)"
   ]
  },
  {
   "cell_type": "markdown",
   "id": "9eb6dad9",
   "metadata": {},
   "source": [
    "# KNN Ensemble"
   ]
  },
  {
   "cell_type": "code",
   "execution_count": 35,
   "id": "68e7ff02",
   "metadata": {},
   "outputs": [
    {
     "name": "stdout",
     "output_type": "stream",
     "text": [
      "Acurácia dos Folds: \n",
      " [0.95081967 0.93715847 0.9260274  0.93972603 0.92328767 0.9260274\n",
      " 0.9369863  0.94246575 0.9369863  0.91780822] \n",
      "\n",
      "Acurácia Média:  0.9337293210569653 \n",
      "\n",
      "Desvio Padrão:  0.009583785981168894 \n",
      "\n",
      "Número de Folds:  10\n"
     ]
    }
   ],
   "source": [
    "knn = KNeighborsClassifier()\n",
    "Knnscores = cross_val_score(knn, x, y, cv=10)\n",
    "print(\"Acurácia dos Folds: \\n\", Knnscores,\"\\n\")\n",
    "print(\"Acurácia Média: \", Knnscores.mean(),\"\\n\")\n",
    "print(\"Desvio Padrão: \", Knnscores.std(),\"\\n\")\n",
    "print(\"Número de Folds: \", len(Knnscores))"
   ]
  },
  {
   "cell_type": "markdown",
   "id": "19c5ee99",
   "metadata": {},
   "source": [
    "**BAGGING**"
   ]
  },
  {
   "cell_type": "code",
   "execution_count": 40,
   "id": "ae6f0107",
   "metadata": {},
   "outputs": [
    {
     "name": "stdout",
     "output_type": "stream",
     "text": [
      "Acurácia dos Folds: \n",
      " [0.95081967 0.93715847 0.9260274  0.93972603 0.92328767 0.9260274\n",
      " 0.9369863  0.94246575 0.9369863  0.91780822] \n",
      "\n",
      "Acurácia Média:  0.9337293210569653 \n",
      "\n",
      "Desvio Padrão:  0.009583785981168894 \n",
      "\n",
      "Número de Folds:  10\n"
     ]
    }
   ],
   "source": [
    "KNNbag = BaggingClassifier(KNeighborsClassifier())\n",
    "scores = cross_val_score(KNNbag, x, y, cv=10)\n",
    "print(\"Acurácia dos Folds: \\n\", scores,\"\\n\")\n",
    "print(\"Acurácia Média: \", scores.mean(),\"\\n\")\n",
    "print(\"Desvio Padrão: \", scores.std(),\"\\n\")\n",
    "print(\"Número de Folds: \", len(scores))"
   ]
  },
  {
   "cell_type": "markdown",
   "id": "e1b705d1",
   "metadata": {},
   "source": [
    "# Decision Tree Ensemble"
   ]
  },
  {
   "cell_type": "code",
   "execution_count": 14,
   "id": "e8d3f05d",
   "metadata": {},
   "outputs": [
    {
     "name": "stdout",
     "output_type": "stream",
     "text": [
      "Acurácia dos Folds: \n",
      " [0.95081967 0.93715847 0.9260274  0.93972603 0.92328767 0.9260274\n",
      " 0.9369863  0.94246575 0.9369863  0.91780822] \n",
      "\n",
      "Acurácia Média:  0.9337293210569653 \n",
      "\n",
      "Desvio Padrão:  0.009583785981168894 \n",
      "\n",
      "Número de Folds:  10\n"
     ]
    }
   ],
   "source": [
    "DT = DecisionTreeClassifier()\n",
    "DTscores = cross_val_score(DT, x, y, cv=10)\n",
    "print(\"Acurácia dos Folds: \\n\", DTscores,\"\\n\")\n",
    "print(\"Acurácia Média: \", DTscores.mean(),\"\\n\")\n",
    "print(\"Desvio Padrão: \", DTscores.std(),\"\\n\")\n",
    "print(\"Número de Folds: \", len(DTscores))"
   ]
  },
  {
   "cell_type": "markdown",
   "id": "5186a6b9",
   "metadata": {},
   "source": [
    "**BAGGING**"
   ]
  },
  {
   "cell_type": "code",
   "execution_count": 15,
   "id": "09bf630c",
   "metadata": {},
   "outputs": [
    {
     "name": "stdout",
     "output_type": "stream",
     "text": [
      "Acurácia dos Folds: \n",
      " [0.95081967 0.93715847 0.9260274  0.93972603 0.92328767 0.9260274\n",
      " 0.9369863  0.94246575 0.9369863  0.91780822] \n",
      "\n",
      "Acurácia Média:  0.9337293210569653 \n",
      "\n",
      "Desvio Padrão:  0.009583785981168894 \n",
      "\n",
      "Número de Folds:  10\n"
     ]
    }
   ],
   "source": [
    "bag = BaggingClassifier(DecisionTreeClassifier())\n",
    "scores = cross_val_score(bag, x, y, cv=10)\n",
    "print(\"Acurácia dos Folds: \\n\", scores,\"\\n\")\n",
    "print(\"Acurácia Média: \", scores.mean(),\"\\n\")\n",
    "print(\"Desvio Padrão: \", scores.std(),\"\\n\")\n",
    "print(\"Número de Folds: \", len(scores))"
   ]
  },
  {
   "cell_type": "markdown",
   "id": "8ecd9bc8",
   "metadata": {},
   "source": [
    "# Naive Bayes"
   ]
  },
  {
   "cell_type": "code",
   "execution_count": 16,
   "id": "1adb0fba",
   "metadata": {},
   "outputs": [
    {
     "name": "stdout",
     "output_type": "stream",
     "text": [
      "Acurácia dos Folds: \n",
      " [0.95081967 0.93715847 0.9260274  0.93972603 0.92328767 0.9260274\n",
      " 0.9369863  0.94246575 0.9369863  0.91780822] \n",
      "\n",
      "Acurácia Média:  0.9337293210569653 \n",
      "\n",
      "Desvio Padrão:  0.009583785981168894 \n",
      "\n",
      "Número de Folds:  10\n"
     ]
    }
   ],
   "source": [
    "gnb = GaussianNB()\n",
    "scores = cross_val_score(gnb, x, y, cv=10)\n",
    "print(\"Acurácia dos Folds: \\n\", scores,\"\\n\")\n",
    "print(\"Acurácia Média: \", scores.mean(),\"\\n\")\n",
    "print(\"Desvio Padrão: \", scores.std(),\"\\n\")\n",
    "print(\"Número de Folds: \", len(scores))"
   ]
  },
  {
   "cell_type": "markdown",
   "id": "0a01d55b",
   "metadata": {},
   "source": [
    "**BAGGING**"
   ]
  },
  {
   "cell_type": "code",
   "execution_count": 17,
   "id": "fcc3fba3",
   "metadata": {},
   "outputs": [
    {
     "name": "stdout",
     "output_type": "stream",
     "text": [
      "Acurácia dos Folds: \n",
      " [0.95081967 0.93715847 0.9260274  0.93972603 0.92328767 0.9260274\n",
      " 0.9369863  0.94246575 0.9369863  0.91780822] \n",
      "\n",
      "Acurácia Média:  0.9337293210569653 \n",
      "\n",
      "Desvio Padrão:  0.009583785981168894 \n",
      "\n",
      "Número de Folds:  10\n"
     ]
    }
   ],
   "source": [
    "bag = BaggingClassifier(GaussianNB())\n",
    "scores = cross_val_score(bag, x, y, cv=10)\n",
    "print(\"Acurácia dos Folds: \\n\", scores,\"\\n\")\n",
    "print(\"Acurácia Média: \", scores.mean(),\"\\n\")\n",
    "print(\"Desvio Padrão: \", scores.std(),\"\\n\")\n",
    "print(\"Número de Folds: \", len(scores))"
   ]
  },
  {
   "cell_type": "markdown",
   "id": "bf4ecfdf",
   "metadata": {},
   "source": [
    "# SVM"
   ]
  },
  {
   "cell_type": "code",
   "execution_count": 18,
   "id": "1ec4f52e",
   "metadata": {},
   "outputs": [
    {
     "name": "stdout",
     "output_type": "stream",
     "text": [
      "Acurácia dos Folds: \n",
      " [0.95081967 0.93715847 0.9260274  0.93972603 0.92328767 0.9260274\n",
      " 0.9369863  0.94246575 0.9369863  0.91780822] \n",
      "\n",
      "Acurácia Média:  0.9337293210569653 \n",
      "\n",
      "Desvio Padrão:  0.009583785981168894 \n",
      "\n",
      "Número de Folds:  10\n"
     ]
    }
   ],
   "source": [
    "clf = svm.SVC()\n",
    "scores = cross_val_score(clf, x, y, cv=10)\n",
    "print(\"Acurácia dos Folds: \\n\", scores,\"\\n\")\n",
    "print(\"Acurácia Média: \", scores.mean(),\"\\n\")\n",
    "print(\"Desvio Padrão: \", scores.std(),\"\\n\")\n",
    "print(\"Número de Folds: \", len(scores))"
   ]
  },
  {
   "cell_type": "markdown",
   "id": "f92dc79e",
   "metadata": {},
   "source": [
    "**BAGGING**"
   ]
  },
  {
   "cell_type": "code",
   "execution_count": 19,
   "id": "29b6f2ac",
   "metadata": {},
   "outputs": [
    {
     "name": "stdout",
     "output_type": "stream",
     "text": [
      "Acurácia dos Folds: \n",
      " [0.95081967 0.93715847 0.9260274  0.93972603 0.92328767 0.9260274\n",
      " 0.9369863  0.94246575 0.9369863  0.91780822] \n",
      "\n",
      "Acurácia Média:  0.9337293210569653 \n",
      "\n",
      "Desvio Padrão:  0.009583785981168894 \n",
      "\n",
      "Número de Folds:  10\n"
     ]
    }
   ],
   "source": [
    "bag = BaggingClassifier(svm.SVC())\n",
    "scores = cross_val_score(bag, x, y, cv=10)\n",
    "print(\"Acurácia dos Folds: \\n\", scores,\"\\n\")\n",
    "print(\"Acurácia Média: \", scores.mean(),\"\\n\")\n",
    "print(\"Desvio Padrão: \", scores.std(),\"\\n\")\n",
    "print(\"Número de Folds: \", len(scores))"
   ]
  },
  {
   "cell_type": "markdown",
   "id": "d0b3f410",
   "metadata": {},
   "source": [
    "# MLP"
   ]
  },
  {
   "cell_type": "code",
   "execution_count": 20,
   "id": "a6d979a3",
   "metadata": {},
   "outputs": [
    {
     "name": "stdout",
     "output_type": "stream",
     "text": [
      "Acurácia dos Folds: \n",
      " [0.95081967 0.93715847 0.9260274  0.93972603 0.92328767 0.9260274\n",
      " 0.9369863  0.94246575 0.9369863  0.91780822] \n",
      "\n",
      "Acurácia Média:  0.9337293210569653 \n",
      "\n",
      "Desvio Padrão:  0.009583785981168894 \n",
      "\n",
      "Número de Folds:  10\n"
     ]
    }
   ],
   "source": [
    "mlp = MLPClassifier()\n",
    "scores = cross_val_score(mlp, x, y, cv=10)\n",
    "print(\"Acurácia dos Folds: \\n\", scores,\"\\n\")\n",
    "print(\"Acurácia Média: \", scores.mean(),\"\\n\")\n",
    "print(\"Desvio Padrão: \", scores.std(),\"\\n\")\n",
    "print(\"Número de Folds: \", len(scores))"
   ]
  },
  {
   "cell_type": "markdown",
   "id": "49971b24",
   "metadata": {},
   "source": [
    "**BAGGING**"
   ]
  },
  {
   "cell_type": "code",
   "execution_count": 21,
   "id": "0b7e2c5f",
   "metadata": {},
   "outputs": [
    {
     "name": "stdout",
     "output_type": "stream",
     "text": [
      "Acurácia dos Folds: \n",
      " [0.95081967 0.93715847 0.9260274  0.93972603 0.92328767 0.9260274\n",
      " 0.9369863  0.94246575 0.9369863  0.91780822] \n",
      "\n",
      "Acurácia Média:  0.9337293210569653 \n",
      "\n",
      "Desvio Padrão:  0.009583785981168894 \n",
      "\n",
      "Número de Folds:  10\n"
     ]
    }
   ],
   "source": [
    "bag = BaggingClassifier(MLPClassifier())\n",
    "scores = cross_val_score(bag, x, y, cv=10)\n",
    "print(\"Acurácia dos Folds: \\n\", scores,\"\\n\")\n",
    "print(\"Acurácia Média: \", scores.mean(),\"\\n\")\n",
    "print(\"Desvio Padrão: \", scores.std(),\"\\n\")\n",
    "print(\"Número de Folds: \", len(scores))"
   ]
  },
  {
   "cell_type": "markdown",
   "id": "9fe18024",
   "metadata": {},
   "source": [
    "# Logistic Regression"
   ]
  },
  {
   "cell_type": "code",
   "execution_count": 22,
   "id": "61e3058b",
   "metadata": {},
   "outputs": [
    {
     "name": "stdout",
     "output_type": "stream",
     "text": [
      "Acurácia dos Folds: \n",
      " [0.95081967 0.93715847 0.9260274  0.93972603 0.92328767 0.9260274\n",
      " 0.9369863  0.94246575 0.9369863  0.91780822] \n",
      "\n",
      "Acurácia Média:  0.9337293210569653 \n",
      "\n",
      "Desvio Padrão:  0.009583785981168894 \n",
      "\n",
      "Número de Folds:  10\n"
     ]
    }
   ],
   "source": [
    "LogReg = LogisticRegression()\n",
    "scores = cross_val_score(LogReg, x, y, cv=10)\n",
    "print(\"Acurácia dos Folds: \\n\", scores,\"\\n\")\n",
    "print(\"Acurácia Média: \", scores.mean(),\"\\n\")\n",
    "print(\"Desvio Padrão: \", scores.std(),\"\\n\")\n",
    "print(\"Número de Folds: \", len(scores))"
   ]
  },
  {
   "cell_type": "markdown",
   "id": "31e1c36d",
   "metadata": {},
   "source": [
    "**BAGGING**"
   ]
  },
  {
   "cell_type": "code",
   "execution_count": 23,
   "id": "da19e3d6",
   "metadata": {},
   "outputs": [
    {
     "name": "stdout",
     "output_type": "stream",
     "text": [
      "Acurácia dos Folds: \n",
      " [0.95081967 0.93715847 0.9260274  0.93972603 0.92328767 0.9260274\n",
      " 0.9369863  0.94246575 0.9369863  0.91780822] \n",
      "\n",
      "Acurácia Média:  0.9337293210569653 \n",
      "\n",
      "Desvio Padrão:  0.009583785981168894 \n",
      "\n",
      "Número de Folds:  10\n"
     ]
    }
   ],
   "source": [
    "bag = BaggingClassifier(LogisticRegression())\n",
    "scores = cross_val_score(bag, x, y, cv=10)\n",
    "print(\"Acurácia dos Folds: \\n\", scores,\"\\n\")\n",
    "print(\"Acurácia Média: \", scores.mean(),\"\\n\")\n",
    "print(\"Desvio Padrão: \", scores.std(),\"\\n\")\n",
    "print(\"Número de Folds: \", len(scores))"
   ]
  },
  {
   "cell_type": "markdown",
   "id": "d9db54c0",
   "metadata": {},
   "source": [
    "# Random Forest"
   ]
  },
  {
   "cell_type": "code",
   "execution_count": 24,
   "id": "2c6e2117",
   "metadata": {},
   "outputs": [
    {
     "name": "stdout",
     "output_type": "stream",
     "text": [
      "Acurácia dos Folds: \n",
      " [0.95081967 0.93715847 0.9260274  0.93972603 0.92328767 0.9260274\n",
      " 0.9369863  0.94246575 0.9369863  0.91780822] \n",
      "\n",
      "Average CV Score:  0.9337293210569653 \n",
      "\n",
      "Number of CV Scores used in Average:  10\n"
     ]
    }
   ],
   "source": [
    "rf = RandomForestClassifier()\n",
    "scores = cross_val_score(rf, x, y, cv=10)\n",
    "print(\"Acurácia dos Folds: \\n\", scores,\"\\n\")\n",
    "print(\"Average CV Score: \", scores.mean(),\"\\n\")\n",
    "print(\"Number of CV Scores used in Average: \", len(scores))"
   ]
  },
  {
   "cell_type": "markdown",
   "id": "aa881518",
   "metadata": {},
   "source": [
    "**BAGGING**"
   ]
  },
  {
   "cell_type": "code",
   "execution_count": 25,
   "id": "eba8b8a7",
   "metadata": {},
   "outputs": [
    {
     "name": "stdout",
     "output_type": "stream",
     "text": [
      "Acurácia dos Folds: \n",
      " [0.95081967 0.93715847 0.9260274  0.93972603 0.92328767 0.9260274\n",
      " 0.9369863  0.94246575 0.9369863  0.91780822] \n",
      "\n",
      "Acurácia Média:  0.9337293210569653 \n",
      "\n",
      "Desvio Padrão:  0.009583785981168894 \n",
      "\n",
      "Número de Folds:  10\n"
     ]
    }
   ],
   "source": [
    "bag = BaggingClassifier(RandomForestClassifier())\n",
    "scores = cross_val_score(bag, x, y, cv=10)\n",
    "print(\"Acurácia dos Folds: \\n\", scores,\"\\n\")\n",
    "print(\"Acurácia Média: \", scores.mean(),\"\\n\")\n",
    "print(\"Desvio Padrão: \", scores.std(),\"\\n\")\n",
    "print(\"Número de Folds: \", len(scores))"
   ]
  },
  {
   "cell_type": "markdown",
   "id": "c8263ff7",
   "metadata": {},
   "source": [
    "# Vote Classifier Ensemble"
   ]
  },
  {
   "cell_type": "code",
   "execution_count": 50,
   "id": "0890f53d",
   "metadata": {
    "scrolled": true
   },
   "outputs": [
    {
     "name": "stdout",
     "output_type": "stream",
     "text": [
      "Accuracy: 0.9337 (+/- 0.0096) [KNN]\n",
      "Accuracy: 0.9337 (+/- 0.0096) [DT]\n",
      "Accuracy: 0.9337 (+/- 0.0096) [SVM]\n",
      "Accuracy: 0.9337 (+/- 0.0096) [Ensemble]\n"
     ]
    }
   ],
   "source": [
    "from sklearn.neighbors import KNeighborsClassifier\n",
    "from sklearn.ensemble import VotingClassifier\n",
    "from sklearn.model_selection import cross_val_score\n",
    "from sklearn import svm\n",
    "from sklearn.tree import DecisionTreeClassifier\n",
    "from sklearn.naive_bayes import GaussianNB\n",
    "from sklearn.ensemble import RandomForestClassifier\n",
    "\n",
    "clf1 = KNeighborsClassifier()\n",
    "clf2 = GaussianNB()\n",
    "clf3 = svm.SVC()\n",
    "eclf = VotingClassifier(estimators=[('KNN', clf1), ('DT', clf2), ('SVM', clf3)],voting='hard')\n",
    "\n",
    "for clf, label in zip([clf1, clf2, clf3, eclf], ['KNN', 'DT', 'SVM', 'Ensemble']):\n",
    "  scores = cross_val_score(clf, x, y, scoring='accuracy', cv=10)\n",
    "  print(\"Accuracy: %0.4f (+/- %0.4f) [%s]\" % (scores.mean(), scores.std(), label))"
   ]
  },
  {
   "cell_type": "code",
   "execution_count": null,
   "id": "dc0a5b0e",
   "metadata": {},
   "outputs": [],
   "source": []
  }
 ],
 "metadata": {
  "kernelspec": {
   "display_name": "Python 3 (ipykernel)",
   "language": "python",
   "name": "python3"
  },
  "language_info": {
   "codemirror_mode": {
    "name": "ipython",
    "version": 3
   },
   "file_extension": ".py",
   "mimetype": "text/x-python",
   "name": "python",
   "nbconvert_exporter": "python",
   "pygments_lexer": "ipython3",
   "version": "3.11.2"
  }
 },
 "nbformat": 4,
 "nbformat_minor": 5
}
