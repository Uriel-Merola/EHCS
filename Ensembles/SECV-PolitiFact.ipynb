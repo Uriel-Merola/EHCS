{
 "cells": [
  {
   "cell_type": "code",
   "execution_count": 1,
   "id": "c1305c44",
   "metadata": {},
   "outputs": [],
   "source": [
    "# -*- coding: utf-8 -*-\n",
    "import pandas as pd\n",
    "import numpy as np\n",
    "from sklearn.model_selection import train_test_split\n",
    "from sklearn.metrics import classification_report\n",
    "from sklearn.metrics import accuracy_score\n",
    "from sklearn.neighbors import KNeighborsClassifier\n",
    "from sklearn.tree import DecisionTreeClassifier\n",
    "from sklearn.naive_bayes import GaussianNB\n",
    "from sklearn.linear_model import LogisticRegression\n",
    "from sklearn import svm\n",
    "from sklearn.neural_network import MLPClassifier\n",
    "from sklearn.ensemble import BaggingClassifier\n",
    "from sklearn.model_selection import cross_val_score\n",
    "from sklearn.model_selection import GridSearchCV\n",
    "from sklearn.metrics import roc_auc_score\n",
    "from sklearn.ensemble import RandomForestClassifier"
   ]
  },
  {
   "cell_type": "markdown",
   "id": "2eb6c435",
   "metadata": {},
   "source": [
    "# Leitura de Datasets e Pré-processamento"
   ]
  },
  {
   "cell_type": "code",
   "execution_count": 2,
   "id": "254d53bb",
   "metadata": {},
   "outputs": [],
   "source": [
    "Polit2Maq123= pd.read_csv(\"D:\\HCS\\Codigos em R\\Polit2\\Ensemble\\Ensemble No Metadata\\ResulttestePolit2Maq123.csv\",sep=';')"
   ]
  },
  {
   "cell_type": "code",
   "execution_count": 3,
   "id": "d517da56",
   "metadata": {},
   "outputs": [
    {
     "data": {
      "text/html": [
       "<div>\n",
       "<style scoped>\n",
       "    .dataframe tbody tr th:only-of-type {\n",
       "        vertical-align: middle;\n",
       "    }\n",
       "\n",
       "    .dataframe tbody tr th {\n",
       "        vertical-align: top;\n",
       "    }\n",
       "\n",
       "    .dataframe thead th {\n",
       "        text-align: right;\n",
       "    }\n",
       "</style>\n",
       "<table border=\"1\" class=\"dataframe\">\n",
       "  <thead>\n",
       "    <tr style=\"text-align: right;\">\n",
       "      <th></th>\n",
       "      <th>id</th>\n",
       "      <th>idOriginal</th>\n",
       "      <th>rotulo</th>\n",
       "      <th>class_mac1</th>\n",
       "      <th>class_mac2</th>\n",
       "      <th>class_mac3</th>\n",
       "    </tr>\n",
       "  </thead>\n",
       "  <tbody>\n",
       "    <tr>\n",
       "      <th>0</th>\n",
       "      <td>3</td>\n",
       "      <td>1201</td>\n",
       "      <td>Real</td>\n",
       "      <td>real</td>\n",
       "      <td>real</td>\n",
       "      <td>real</td>\n",
       "    </tr>\n",
       "    <tr>\n",
       "      <th>1</th>\n",
       "      <td>6</td>\n",
       "      <td>11399</td>\n",
       "      <td>Real</td>\n",
       "      <td>real</td>\n",
       "      <td>real</td>\n",
       "      <td>real</td>\n",
       "    </tr>\n",
       "    <tr>\n",
       "      <th>2</th>\n",
       "      <td>7</td>\n",
       "      <td>954</td>\n",
       "      <td>Real</td>\n",
       "      <td>real</td>\n",
       "      <td>real</td>\n",
       "      <td>real</td>\n",
       "    </tr>\n",
       "    <tr>\n",
       "      <th>3</th>\n",
       "      <td>9</td>\n",
       "      <td>11294</td>\n",
       "      <td>Real</td>\n",
       "      <td>real</td>\n",
       "      <td>real</td>\n",
       "      <td>real</td>\n",
       "    </tr>\n",
       "    <tr>\n",
       "      <th>4</th>\n",
       "      <td>12</td>\n",
       "      <td>12751</td>\n",
       "      <td>Real</td>\n",
       "      <td>real</td>\n",
       "      <td>real</td>\n",
       "      <td>real</td>\n",
       "    </tr>\n",
       "    <tr>\n",
       "      <th>...</th>\n",
       "      <td>...</td>\n",
       "      <td>...</td>\n",
       "      <td>...</td>\n",
       "      <td>...</td>\n",
       "      <td>...</td>\n",
       "      <td>...</td>\n",
       "    </tr>\n",
       "    <tr>\n",
       "      <th>311</th>\n",
       "      <td>591</td>\n",
       "      <td>14694</td>\n",
       "      <td>Fake</td>\n",
       "      <td>real</td>\n",
       "      <td>real</td>\n",
       "      <td>fake</td>\n",
       "    </tr>\n",
       "    <tr>\n",
       "      <th>312</th>\n",
       "      <td>595</td>\n",
       "      <td>14164</td>\n",
       "      <td>Fake</td>\n",
       "      <td>fake</td>\n",
       "      <td>real</td>\n",
       "      <td>fake</td>\n",
       "    </tr>\n",
       "    <tr>\n",
       "      <th>313</th>\n",
       "      <td>596</td>\n",
       "      <td>14085</td>\n",
       "      <td>Fake</td>\n",
       "      <td>real</td>\n",
       "      <td>real</td>\n",
       "      <td>fake</td>\n",
       "    </tr>\n",
       "    <tr>\n",
       "      <th>314</th>\n",
       "      <td>597</td>\n",
       "      <td>14620</td>\n",
       "      <td>Fake</td>\n",
       "      <td>real</td>\n",
       "      <td>real</td>\n",
       "      <td>fake</td>\n",
       "    </tr>\n",
       "    <tr>\n",
       "      <th>315</th>\n",
       "      <td>598</td>\n",
       "      <td>14548</td>\n",
       "      <td>Fake</td>\n",
       "      <td>real</td>\n",
       "      <td>real</td>\n",
       "      <td>real</td>\n",
       "    </tr>\n",
       "  </tbody>\n",
       "</table>\n",
       "<p>316 rows × 6 columns</p>\n",
       "</div>"
      ],
      "text/plain": [
       "      id  idOriginal rotulo class_mac1 class_mac2 class_mac3\n",
       "0      3        1201   Real       real       real       real\n",
       "1      6       11399   Real       real       real       real\n",
       "2      7         954   Real       real       real       real\n",
       "3      9       11294   Real       real       real       real\n",
       "4     12       12751   Real       real       real       real\n",
       "..   ...         ...    ...        ...        ...        ...\n",
       "311  591       14694   Fake       real       real       fake\n",
       "312  595       14164   Fake       fake       real       fake\n",
       "313  596       14085   Fake       real       real       fake\n",
       "314  597       14620   Fake       real       real       fake\n",
       "315  598       14548   Fake       real       real       real\n",
       "\n",
       "[316 rows x 6 columns]"
      ]
     },
     "execution_count": 3,
     "metadata": {},
     "output_type": "execute_result"
    }
   ],
   "source": [
    "Polit2Maq123"
   ]
  },
  {
   "cell_type": "code",
   "execution_count": 4,
   "id": "a4f348bc",
   "metadata": {},
   "outputs": [],
   "source": [
    "Polit2Maq123['rotulo'].replace(['Fake', 'Real'],[0, 1], inplace=True)\n",
    "Polit2Maq123['class_mac1'].replace(['fake', 'real'],[0, 1], inplace=True)\n",
    "Polit2Maq123['class_mac2'].replace(['fake', 'real'],[0, 1], inplace=True)\n",
    "Polit2Maq123['class_mac3'].replace(['fake', 'real'],[0, 1], inplace=True)\n"
   ]
  },
  {
   "cell_type": "code",
   "execution_count": 5,
   "id": "2d88efe8",
   "metadata": {},
   "outputs": [
    {
     "data": {
      "text/html": [
       "<div>\n",
       "<style scoped>\n",
       "    .dataframe tbody tr th:only-of-type {\n",
       "        vertical-align: middle;\n",
       "    }\n",
       "\n",
       "    .dataframe tbody tr th {\n",
       "        vertical-align: top;\n",
       "    }\n",
       "\n",
       "    .dataframe thead th {\n",
       "        text-align: right;\n",
       "    }\n",
       "</style>\n",
       "<table border=\"1\" class=\"dataframe\">\n",
       "  <thead>\n",
       "    <tr style=\"text-align: right;\">\n",
       "      <th></th>\n",
       "      <th>id</th>\n",
       "      <th>idOriginal</th>\n",
       "      <th>rotulo</th>\n",
       "      <th>class_mac1</th>\n",
       "      <th>class_mac2</th>\n",
       "      <th>class_mac3</th>\n",
       "    </tr>\n",
       "  </thead>\n",
       "  <tbody>\n",
       "    <tr>\n",
       "      <th>0</th>\n",
       "      <td>3</td>\n",
       "      <td>1201</td>\n",
       "      <td>1</td>\n",
       "      <td>1</td>\n",
       "      <td>1</td>\n",
       "      <td>1</td>\n",
       "    </tr>\n",
       "    <tr>\n",
       "      <th>1</th>\n",
       "      <td>6</td>\n",
       "      <td>11399</td>\n",
       "      <td>1</td>\n",
       "      <td>1</td>\n",
       "      <td>1</td>\n",
       "      <td>1</td>\n",
       "    </tr>\n",
       "    <tr>\n",
       "      <th>2</th>\n",
       "      <td>7</td>\n",
       "      <td>954</td>\n",
       "      <td>1</td>\n",
       "      <td>1</td>\n",
       "      <td>1</td>\n",
       "      <td>1</td>\n",
       "    </tr>\n",
       "    <tr>\n",
       "      <th>3</th>\n",
       "      <td>9</td>\n",
       "      <td>11294</td>\n",
       "      <td>1</td>\n",
       "      <td>1</td>\n",
       "      <td>1</td>\n",
       "      <td>1</td>\n",
       "    </tr>\n",
       "    <tr>\n",
       "      <th>4</th>\n",
       "      <td>12</td>\n",
       "      <td>12751</td>\n",
       "      <td>1</td>\n",
       "      <td>1</td>\n",
       "      <td>1</td>\n",
       "      <td>1</td>\n",
       "    </tr>\n",
       "    <tr>\n",
       "      <th>...</th>\n",
       "      <td>...</td>\n",
       "      <td>...</td>\n",
       "      <td>...</td>\n",
       "      <td>...</td>\n",
       "      <td>...</td>\n",
       "      <td>...</td>\n",
       "    </tr>\n",
       "    <tr>\n",
       "      <th>311</th>\n",
       "      <td>591</td>\n",
       "      <td>14694</td>\n",
       "      <td>0</td>\n",
       "      <td>1</td>\n",
       "      <td>1</td>\n",
       "      <td>0</td>\n",
       "    </tr>\n",
       "    <tr>\n",
       "      <th>312</th>\n",
       "      <td>595</td>\n",
       "      <td>14164</td>\n",
       "      <td>0</td>\n",
       "      <td>0</td>\n",
       "      <td>1</td>\n",
       "      <td>0</td>\n",
       "    </tr>\n",
       "    <tr>\n",
       "      <th>313</th>\n",
       "      <td>596</td>\n",
       "      <td>14085</td>\n",
       "      <td>0</td>\n",
       "      <td>1</td>\n",
       "      <td>1</td>\n",
       "      <td>0</td>\n",
       "    </tr>\n",
       "    <tr>\n",
       "      <th>314</th>\n",
       "      <td>597</td>\n",
       "      <td>14620</td>\n",
       "      <td>0</td>\n",
       "      <td>1</td>\n",
       "      <td>1</td>\n",
       "      <td>0</td>\n",
       "    </tr>\n",
       "    <tr>\n",
       "      <th>315</th>\n",
       "      <td>598</td>\n",
       "      <td>14548</td>\n",
       "      <td>0</td>\n",
       "      <td>1</td>\n",
       "      <td>1</td>\n",
       "      <td>1</td>\n",
       "    </tr>\n",
       "  </tbody>\n",
       "</table>\n",
       "<p>316 rows × 6 columns</p>\n",
       "</div>"
      ],
      "text/plain": [
       "      id  idOriginal  rotulo  class_mac1  class_mac2  class_mac3\n",
       "0      3        1201       1           1           1           1\n",
       "1      6       11399       1           1           1           1\n",
       "2      7         954       1           1           1           1\n",
       "3      9       11294       1           1           1           1\n",
       "4     12       12751       1           1           1           1\n",
       "..   ...         ...     ...         ...         ...         ...\n",
       "311  591       14694       0           1           1           0\n",
       "312  595       14164       0           0           1           0\n",
       "313  596       14085       0           1           1           0\n",
       "314  597       14620       0           1           1           0\n",
       "315  598       14548       0           1           1           1\n",
       "\n",
       "[316 rows x 6 columns]"
      ]
     },
     "execution_count": 5,
     "metadata": {},
     "output_type": "execute_result"
    }
   ],
   "source": [
    "Polit2Maq123"
   ]
  },
  {
   "cell_type": "markdown",
   "id": "f763b93f",
   "metadata": {},
   "source": [
    "# Dataset Split"
   ]
  },
  {
   "cell_type": "code",
   "execution_count": 6,
   "id": "889e81e8",
   "metadata": {},
   "outputs": [],
   "source": [
    "x = Polit2Maq123[['class_mac1','class_mac2','class_mac3']]\n",
    "y = Polit2Maq123['rotulo']"
   ]
  },
  {
   "cell_type": "code",
   "execution_count": 7,
   "id": "a2fd7f98",
   "metadata": {
    "scrolled": true
   },
   "outputs": [
    {
     "data": {
      "text/html": [
       "<div>\n",
       "<style scoped>\n",
       "    .dataframe tbody tr th:only-of-type {\n",
       "        vertical-align: middle;\n",
       "    }\n",
       "\n",
       "    .dataframe tbody tr th {\n",
       "        vertical-align: top;\n",
       "    }\n",
       "\n",
       "    .dataframe thead th {\n",
       "        text-align: right;\n",
       "    }\n",
       "</style>\n",
       "<table border=\"1\" class=\"dataframe\">\n",
       "  <thead>\n",
       "    <tr style=\"text-align: right;\">\n",
       "      <th></th>\n",
       "      <th>class_mac1</th>\n",
       "      <th>class_mac2</th>\n",
       "      <th>class_mac3</th>\n",
       "    </tr>\n",
       "  </thead>\n",
       "  <tbody>\n",
       "    <tr>\n",
       "      <th>253</th>\n",
       "      <td>0</td>\n",
       "      <td>0</td>\n",
       "      <td>0</td>\n",
       "    </tr>\n",
       "    <tr>\n",
       "      <th>77</th>\n",
       "      <td>0</td>\n",
       "      <td>0</td>\n",
       "      <td>0</td>\n",
       "    </tr>\n",
       "    <tr>\n",
       "      <th>129</th>\n",
       "      <td>1</td>\n",
       "      <td>0</td>\n",
       "      <td>0</td>\n",
       "    </tr>\n",
       "    <tr>\n",
       "      <th>282</th>\n",
       "      <td>0</td>\n",
       "      <td>0</td>\n",
       "      <td>0</td>\n",
       "    </tr>\n",
       "    <tr>\n",
       "      <th>117</th>\n",
       "      <td>1</td>\n",
       "      <td>1</td>\n",
       "      <td>0</td>\n",
       "    </tr>\n",
       "    <tr>\n",
       "      <th>290</th>\n",
       "      <td>0</td>\n",
       "      <td>0</td>\n",
       "      <td>0</td>\n",
       "    </tr>\n",
       "    <tr>\n",
       "      <th>3</th>\n",
       "      <td>1</td>\n",
       "      <td>1</td>\n",
       "      <td>1</td>\n",
       "    </tr>\n",
       "    <tr>\n",
       "      <th>311</th>\n",
       "      <td>1</td>\n",
       "      <td>1</td>\n",
       "      <td>0</td>\n",
       "    </tr>\n",
       "    <tr>\n",
       "      <th>69</th>\n",
       "      <td>0</td>\n",
       "      <td>0</td>\n",
       "      <td>1</td>\n",
       "    </tr>\n",
       "    <tr>\n",
       "      <th>154</th>\n",
       "      <td>1</td>\n",
       "      <td>1</td>\n",
       "      <td>0</td>\n",
       "    </tr>\n",
       "  </tbody>\n",
       "</table>\n",
       "</div>"
      ],
      "text/plain": [
       "     class_mac1  class_mac2  class_mac3\n",
       "253           0           0           0\n",
       "77            0           0           0\n",
       "129           1           0           0\n",
       "282           0           0           0\n",
       "117           1           1           0\n",
       "290           0           0           0\n",
       "3             1           1           1\n",
       "311           1           1           0\n",
       "69            0           0           1\n",
       "154           1           1           0"
      ]
     },
     "execution_count": 7,
     "metadata": {},
     "output_type": "execute_result"
    }
   ],
   "source": [
    "x_train, x_test, y_train, y_test = train_test_split(x,y, test_size = .5, random_state=500, shuffle=True)\n",
    "x_train.head(10)"
   ]
  },
  {
   "cell_type": "markdown",
   "id": "5b0ffe38",
   "metadata": {},
   "source": [
    "# KNN Ensemble"
   ]
  },
  {
   "cell_type": "code",
   "execution_count": 8,
   "id": "8a0836a1",
   "metadata": {},
   "outputs": [
    {
     "name": "stdout",
     "output_type": "stream",
     "text": [
      "Acurácia dos Folds: \n",
      " [0.5        0.5        0.5        0.46875    0.46875    0.5\n",
      " 0.51612903 0.48387097 0.48387097 0.48387097] \n",
      "\n",
      "Average CV Score:  0.49052419354838717 \n",
      "\n",
      "Desvio Padrão:  0.014476873444367933 \n",
      "\n",
      "Number of CV Scores used in Average:  10\n"
     ]
    }
   ],
   "source": [
    "knn = KNeighborsClassifier()\n",
    "scores = cross_val_score(knn, x, y, cv=10)\n",
    "print(\"Acurácia dos Folds: \\n\", scores,\"\\n\")\n",
    "print(\"Average CV Score: \", scores.mean(),\"\\n\")\n",
    "print(\"Desvio Padrão: \", scores.std(),\"\\n\")\n",
    "print(\"Number of CV Scores used in Average: \", len(scores))"
   ]
  },
  {
   "cell_type": "markdown",
   "id": "6a3cb93f",
   "metadata": {},
   "source": [
    "**BAGGING**"
   ]
  },
  {
   "cell_type": "code",
   "execution_count": 9,
   "id": "2c2e068b",
   "metadata": {},
   "outputs": [
    {
     "name": "stdout",
     "output_type": "stream",
     "text": [
      "Acurácia dos Folds: \n",
      " [0.5        0.78125    0.875      0.65625    0.65625    0.6875\n",
      " 0.61290323 0.64516129 0.77419355 0.74193548] \n",
      "\n",
      "Acurácia Média:  0.6930443548387097 \n",
      "\n",
      "Desvio Padrão:  0.0992892376280879 \n",
      "\n",
      "Número de Folds:  10\n"
     ]
    }
   ],
   "source": [
    "bag = BaggingClassifier(KNeighborsClassifier())\n",
    "scores = cross_val_score(bag, x, y, cv=10)\n",
    "print(\"Acurácia dos Folds: \\n\", scores,\"\\n\")\n",
    "print(\"Acurácia Média: \", scores.mean(),\"\\n\")\n",
    "print(\"Desvio Padrão: \", scores.std(),\"\\n\")\n",
    "print(\"Número de Folds: \", len(scores))"
   ]
  },
  {
   "cell_type": "markdown",
   "id": "0c739c6e",
   "metadata": {},
   "source": [
    "# Decision Tree Ensemble"
   ]
  },
  {
   "cell_type": "code",
   "execution_count": 10,
   "id": "75bc4a41",
   "metadata": {},
   "outputs": [
    {
     "name": "stdout",
     "output_type": "stream",
     "text": [
      "Acurácia dos Folds: \n",
      " [0.5        0.78125    0.875      0.6875     0.53125    0.6875\n",
      " 0.61290323 0.64516129 0.74193548 0.74193548] \n",
      "\n",
      "Average CV Score:  0.6804435483870968 \n",
      "\n",
      "Desvio Padrão:  0.10784311696724663 \n",
      "\n",
      "Number of CV Scores used in Average:  10\n"
     ]
    }
   ],
   "source": [
    "DT = DecisionTreeClassifier()\n",
    "scores = cross_val_score(DT, x, y, cv=10)\n",
    "print(\"Acurácia dos Folds: \\n\", scores,\"\\n\")\n",
    "print(\"Average CV Score: \", scores.mean(),\"\\n\")\n",
    "print(\"Desvio Padrão: \", scores.std(),\"\\n\")\n",
    "print(\"Number of CV Scores used in Average: \", len(scores))"
   ]
  },
  {
   "cell_type": "markdown",
   "id": "6f26eae9",
   "metadata": {},
   "source": [
    "**BAGGING**"
   ]
  },
  {
   "cell_type": "code",
   "execution_count": 27,
   "id": "6455d9b3",
   "metadata": {},
   "outputs": [
    {
     "name": "stdout",
     "output_type": "stream",
     "text": [
      "Acurácia dos Folds: \n",
      " [0.5        0.8125     0.875      0.6875     0.53125    0.6875\n",
      " 0.61290323 0.64516129 0.74193548 0.74193548] \n",
      "\n",
      "Acurácia Média:  0.6835685483870968 \n",
      "\n",
      "Desvio Padrão:  0.111121864746736 \n",
      "\n",
      "Número de Folds:  10\n"
     ]
    }
   ],
   "source": [
    "bag = BaggingClassifier(DecisionTreeClassifier())\n",
    "scores = cross_val_score(bag, x, y, cv=10)\n",
    "print(\"Acurácia dos Folds: \\n\", scores,\"\\n\")\n",
    "print(\"Acurácia Média: \", scores.mean(),\"\\n\")\n",
    "print(\"Desvio Padrão: \", scores.std(),\"\\n\")\n",
    "print(\"Número de Folds: \", len(scores))"
   ]
  },
  {
   "cell_type": "markdown",
   "id": "61bfd81a",
   "metadata": {},
   "source": [
    "# Naive Bayes"
   ]
  },
  {
   "cell_type": "code",
   "execution_count": 54,
   "id": "7f323d45",
   "metadata": {},
   "outputs": [
    {
     "name": "stdout",
     "output_type": "stream",
     "text": [
      "Acurácia dos Folds: \n",
      " [0.59375    0.8125     0.9375     0.6875     0.53125    0.5625\n",
      " 0.64516129 0.64516129 0.80645161 0.77419355] \n",
      "\n",
      "Average CV Score:  0.6995967741935484 \n",
      "\n",
      "Desvio Padrão:  0.12277629891783892 \n",
      "\n",
      "Number of CV Scores used in Average:  10\n"
     ]
    }
   ],
   "source": [
    "gnb = GaussianNB()\n",
    "scores = cross_val_score(gnb, x, y, cv=10)\n",
    "print(\"Acurácia dos Folds: \\n\", scores,\"\\n\")\n",
    "print(\"Average CV Score: \", scores.mean(),\"\\n\")\n",
    "print(\"Desvio Padrão: \", scores.std(),\"\\n\")\n",
    "print(\"Number of CV Scores used in Average: \", len(scores))"
   ]
  },
  {
   "cell_type": "markdown",
   "id": "2d28c4d7",
   "metadata": {},
   "source": [
    "**BAGGING**"
   ]
  },
  {
   "cell_type": "code",
   "execution_count": 64,
   "id": "1e3a8e16",
   "metadata": {},
   "outputs": [
    {
     "name": "stdout",
     "output_type": "stream",
     "text": [
      "Acurácia dos Folds: \n",
      " [0.59375    0.8125     0.9375     0.6875     0.53125    0.5625\n",
      " 0.64516129 0.64516129 0.80645161 0.77419355] \n",
      "\n",
      "Acurácia Média:  0.6995967741935484 \n",
      "\n",
      "Desvio Padrão:  0.12277629891783892 \n",
      "\n",
      "Número de Folds:  10\n"
     ]
    }
   ],
   "source": [
    "bag = BaggingClassifier(GaussianNB())\n",
    "scores = cross_val_score(bag, x, y, cv=10)\n",
    "print(\"Acurácia dos Folds: \\n\", scores,\"\\n\")\n",
    "print(\"Acurácia Média: \", scores.mean(),\"\\n\")\n",
    "print(\"Desvio Padrão: \", scores.std(),\"\\n\")\n",
    "print(\"Número de Folds: \", len(scores))"
   ]
  },
  {
   "cell_type": "markdown",
   "id": "d21575d5",
   "metadata": {},
   "source": [
    "# SVM"
   ]
  },
  {
   "cell_type": "code",
   "execution_count": 14,
   "id": "a2889039",
   "metadata": {},
   "outputs": [
    {
     "name": "stdout",
     "output_type": "stream",
     "text": [
      "Acurácia dos Folds: \n",
      " [0.5        0.78125    0.875      0.6875     0.6875     0.6875\n",
      " 0.61290323 0.64516129 0.74193548 0.74193548] \n",
      "\n",
      "Average CV Score:  0.6960685483870968 \n",
      "\n",
      "Desvio Padrão:  0.09573455549128781 \n",
      "\n",
      "Number of CV Scores used in Average:  10\n"
     ]
    }
   ],
   "source": [
    "clf = svm.SVC()\n",
    "scores = cross_val_score(clf, x, y, cv=10)\n",
    "print(\"Acurácia dos Folds: \\n\", scores,\"\\n\")\n",
    "print(\"Average CV Score: \", scores.mean(),\"\\n\")\n",
    "print(\"Desvio Padrão: \", scores.std(),\"\\n\")\n",
    "print(\"Number of CV Scores used in Average: \", len(scores))"
   ]
  },
  {
   "cell_type": "markdown",
   "id": "c6e3b90b",
   "metadata": {},
   "source": [
    "**BAGGING**"
   ]
  },
  {
   "cell_type": "code",
   "execution_count": 69,
   "id": "7fce3d07",
   "metadata": {},
   "outputs": [
    {
     "name": "stdout",
     "output_type": "stream",
     "text": [
      "Acurácia dos Folds: \n",
      " [0.5        0.8125     0.875      0.6875     0.6875     0.6875\n",
      " 0.61290323 0.64516129 0.74193548 0.74193548] \n",
      "\n",
      "Acurácia Média:  0.6991935483870968 \n",
      "\n",
      "Desvio Padrão:  0.09892107870770067 \n",
      "\n",
      "Número de Folds:  10\n"
     ]
    }
   ],
   "source": [
    "bag = BaggingClassifier(svm.SVC())\n",
    "scores = cross_val_score(bag, x, y, cv=10)\n",
    "print(\"Acurácia dos Folds: \\n\", scores,\"\\n\")\n",
    "print(\"Acurácia Média: \", scores.mean(),\"\\n\")\n",
    "print(\"Desvio Padrão: \", scores.std(),\"\\n\")\n",
    "print(\"Número de Folds: \", len(scores))"
   ]
  },
  {
   "cell_type": "markdown",
   "id": "94d0570d",
   "metadata": {},
   "source": [
    "# MLP"
   ]
  },
  {
   "cell_type": "code",
   "execution_count": 16,
   "id": "1e68c913",
   "metadata": {},
   "outputs": [
    {
     "name": "stdout",
     "output_type": "stream",
     "text": [
      "Acurácia dos Folds: \n",
      " [0.5        0.78125    0.875      0.6875     0.5        0.5625\n",
      " 0.61290323 0.64516129 0.77419355 0.74193548] \n",
      "\n",
      "Average CV Score:  0.6680443548387097 \n",
      "\n",
      "Desvio Padrão:  0.11997242579318963 \n",
      "\n",
      "Number of CV Scores used in Average:  10\n"
     ]
    }
   ],
   "source": [
    "mlp = MLPClassifier()\n",
    "scores = cross_val_score(mlp, x, y, cv=10)\n",
    "print(\"Acurácia dos Folds: \\n\", scores,\"\\n\")\n",
    "print(\"Average CV Score: \", scores.mean(),\"\\n\")\n",
    "print(\"Desvio Padrão: \", scores.std(),\"\\n\")\n",
    "print(\"Number of CV Scores used in Average: \", len(scores))"
   ]
  },
  {
   "cell_type": "markdown",
   "id": "5c25ce1e",
   "metadata": {},
   "source": [
    "**BAGGING**"
   ]
  },
  {
   "cell_type": "code",
   "execution_count": 17,
   "id": "6f577f14",
   "metadata": {},
   "outputs": [
    {
     "name": "stderr",
     "output_type": "stream",
     "text": [
      "C:\\Users\\uriel.merola\\AppData\\Local\\Programs\\Python\\Python311\\Lib\\site-packages\\sklearn\\neural_network\\_multilayer_perceptron.py:686: ConvergenceWarning: Stochastic Optimizer: Maximum iterations (200) reached and the optimization hasn't converged yet.\n",
      "  warnings.warn(\n"
     ]
    },
    {
     "name": "stdout",
     "output_type": "stream",
     "text": [
      "Acurácia dos Folds: \n",
      " [0.5        0.78125    0.875      0.6875     0.5        0.6875\n",
      " 0.61290323 0.64516129 0.77419355 0.77419355] \n",
      "\n",
      "Acurácia Média:  0.6837701612903226 \n",
      "\n",
      "Desvio Padrão:  0.11683641694827934 \n",
      "\n",
      "Número de Folds:  10\n"
     ]
    }
   ],
   "source": [
    "bag = BaggingClassifier(MLPClassifier())\n",
    "scores = cross_val_score(bag, x, y, cv=10)\n",
    "print(\"Acurácia dos Folds: \\n\", scores,\"\\n\")\n",
    "print(\"Acurácia Média: \", scores.mean(),\"\\n\")\n",
    "print(\"Desvio Padrão: \", scores.std(),\"\\n\")\n",
    "print(\"Número de Folds: \", len(scores))"
   ]
  },
  {
   "cell_type": "markdown",
   "id": "04015a46",
   "metadata": {},
   "source": [
    "# Logistic Regression"
   ]
  },
  {
   "cell_type": "code",
   "execution_count": 18,
   "id": "a3448e1b",
   "metadata": {},
   "outputs": [
    {
     "name": "stdout",
     "output_type": "stream",
     "text": [
      "Acurácia dos Folds: \n",
      " [0.5        0.8125     0.875      0.65625    0.5        0.5625\n",
      " 0.61290323 0.64516129 0.77419355 0.77419355] \n",
      "\n",
      "Average CV Score:  0.6712701612903226 \n",
      "\n",
      "Desvio Padrão:  0.12547909131632345 \n",
      "\n",
      "Number of CV Scores used in Average:  10\n"
     ]
    }
   ],
   "source": [
    "LogReg = LogisticRegression()\n",
    "scores = cross_val_score(LogReg, x, y, cv=10)\n",
    "print(\"Acurácia dos Folds: \\n\", scores,\"\\n\")\n",
    "print(\"Average CV Score: \", scores.mean(),\"\\n\")\n",
    "print(\"Desvio Padrão: \", scores.std(),\"\\n\")\n",
    "print(\"Number of CV Scores used in Average: \", len(scores))"
   ]
  },
  {
   "cell_type": "markdown",
   "id": "512becfa",
   "metadata": {},
   "source": [
    "**BAGGING**"
   ]
  },
  {
   "cell_type": "code",
   "execution_count": 19,
   "id": "215fdfcc",
   "metadata": {},
   "outputs": [
    {
     "name": "stdout",
     "output_type": "stream",
     "text": [
      "Acurácia dos Folds: \n",
      " [0.5        0.78125    0.875      0.65625    0.5        0.6875\n",
      " 0.61290323 0.64516129 0.77419355 0.77419355] \n",
      "\n",
      "Acurácia Média:  0.6806451612903226 \n",
      "\n",
      "Desvio Padrão:  0.11711245646120097 \n",
      "\n",
      "Número de Folds:  10\n"
     ]
    }
   ],
   "source": [
    "bag = BaggingClassifier(LogisticRegression())\n",
    "scores = cross_val_score(bag, x, y, cv=10)\n",
    "print(\"Acurácia dos Folds: \\n\", scores,\"\\n\")\n",
    "print(\"Acurácia Média: \", scores.mean(),\"\\n\")\n",
    "print(\"Desvio Padrão: \", scores.std(),\"\\n\")\n",
    "print(\"Número de Folds: \", len(scores))"
   ]
  },
  {
   "cell_type": "markdown",
   "id": "56d1f4ff",
   "metadata": {},
   "source": [
    "# Random Forest"
   ]
  },
  {
   "cell_type": "code",
   "execution_count": 20,
   "id": "693aedc4",
   "metadata": {},
   "outputs": [
    {
     "name": "stdout",
     "output_type": "stream",
     "text": [
      "Acurácia dos Folds: \n",
      " [0.5        0.78125    0.875      0.6875     0.53125    0.6875\n",
      " 0.61290323 0.64516129 0.74193548 0.74193548] \n",
      "\n",
      "Average CV Score:  0.6804435483870968 \n",
      "\n",
      "Desvio Padrão:  0.10784311696724663 \n",
      "\n",
      "Number of CV Scores used in Average:  10\n"
     ]
    }
   ],
   "source": [
    "rf = RandomForestClassifier()\n",
    "scores = cross_val_score(rf, x, y, cv=10)\n",
    "print(\"Acurácia dos Folds: \\n\", scores,\"\\n\")\n",
    "print(\"Average CV Score: \", scores.mean(),\"\\n\")\n",
    "print(\"Desvio Padrão: \", scores.std(),\"\\n\")\n",
    "print(\"Number of CV Scores used in Average: \", len(scores))"
   ]
  },
  {
   "cell_type": "markdown",
   "id": "9d81055c",
   "metadata": {},
   "source": [
    "**BAGGING**"
   ]
  },
  {
   "cell_type": "code",
   "execution_count": 70,
   "id": "d1d04120",
   "metadata": {},
   "outputs": [
    {
     "name": "stdout",
     "output_type": "stream",
     "text": [
      "Acurácia dos Folds: \n",
      " [0.5        0.8125     0.875      0.6875     0.53125    0.6875\n",
      " 0.64516129 0.64516129 0.74193548 0.74193548] \n",
      "\n",
      "Acurácia Média:  0.6867943548387097 \n",
      "\n",
      "Desvio Padrão:  0.10947975138439706 \n",
      "\n",
      "Número de Folds:  10\n"
     ]
    }
   ],
   "source": [
    "bag = BaggingClassifier(RandomForestClassifier())\n",
    "scores = cross_val_score(bag, x, y, cv=10)\n",
    "print(\"Acurácia dos Folds: \\n\", scores,\"\\n\")\n",
    "print(\"Acurácia Média: \", scores.mean(),\"\\n\")\n",
    "print(\"Desvio Padrão: \", scores.std(),\"\\n\")\n",
    "print(\"Número de Folds: \", len(scores))"
   ]
  },
  {
   "cell_type": "markdown",
   "id": "d658c41d",
   "metadata": {},
   "source": [
    "# Vote Classifier Ensemble"
   ]
  },
  {
   "cell_type": "code",
   "execution_count": 22,
   "id": "0890f53d",
   "metadata": {
    "scrolled": true
   },
   "outputs": [
    {
     "name": "stdout",
     "output_type": "stream",
     "text": [
      "Accuracy: 0.6836 (+/- 0.1039) [KNN]\n",
      "Accuracy: 0.6681 (+/- 0.1223) [DT]\n",
      "Accuracy: 0.6836 (+/- 0.1111) [SVM]\n",
      "Accuracy: 0.6837 (+/- 0.1062) [Ensemble]\n"
     ]
    }
   ],
   "source": [
    "from sklearn.neighbors import KNeighborsClassifier\n",
    "from sklearn.ensemble import VotingClassifier\n",
    "from sklearn.model_selection import cross_val_score\n",
    "from sklearn import svm\n",
    "from sklearn.tree import DecisionTreeClassifier\n",
    "from sklearn.naive_bayes import GaussianNB\n",
    "from sklearn.ensemble import RandomForestClassifier\n",
    "\n",
    "clf1 = BaggingClassifier(DecisionTreeClassifier())\n",
    "clf2 = BaggingClassifier(LogisticRegression())\n",
    "clf3 = BaggingClassifier(svm.SVC())\n",
    "eclf = VotingClassifier(estimators=[('KNN', clf1), ('DT', clf2), ('SVM', clf3)],voting='hard')\n",
    "\n",
    "for clf, label in zip([clf1, clf2, clf3, eclf], ['KNN', 'DT', 'SVM', 'Ensemble']):\n",
    "  scores = cross_val_score(clf, x, y, scoring='accuracy', cv=10)\n",
    "  print(\"Accuracy: %0.4f (+/- %0.4f) [%s]\" % (scores.mean(), scores.std(), label))\n",
    "\n"
   ]
  }
 ],
 "metadata": {
  "kernelspec": {
   "display_name": "Python 3 (ipykernel)",
   "language": "python",
   "name": "python3"
  },
  "language_info": {
   "codemirror_mode": {
    "name": "ipython",
    "version": 3
   },
   "file_extension": ".py",
   "mimetype": "text/x-python",
   "name": "python",
   "nbconvert_exporter": "python",
   "pygments_lexer": "ipython3",
   "version": "3.11.2"
  }
 },
 "nbformat": 4,
 "nbformat_minor": 5
}
